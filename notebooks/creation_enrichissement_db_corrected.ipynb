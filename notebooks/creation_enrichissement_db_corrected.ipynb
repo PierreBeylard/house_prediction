{
 "cells": [
  {
   "cell_type": "code",
   "execution_count": null,
   "metadata": {},
   "outputs": [],
   "source": [
    "# Imports\n",
    "## Import data preparation libraries\n",
    "import pandas as pd \n",
    "import numpy as np \n",
    "from datetime import datetime\n",
    "\n",
    "##Import data enrichment library\n",
    "import requests \n",
    "\n",
    "## Import database libraries \n",
    "from sqlalchemy import create_engine, Table, Column, Integer, String, Float, Boolean, Date, MetaData, ForeignKey\n",
    "from sqlalchemy.orm import relationship, backref, sessionmaker\n",
    "from sqlalchemy.ext.declarative import declarative_base"
   ]
  },
  {
   "cell_type": "code",
   "execution_count": null,
   "metadata": {},
   "outputs": [],
   "source": [
    "# choix à faire sur l'architecture base de données :\n",
    "## soit transactions(avec base maisons et base appartements), soit adresses\n",
    "iter_csv= pd.read_csv(\"../data/valeursfoncieres-2021.txt\", sep='|',iterator=True, chunksize=100000, low_memory = False)\n",
    "df_maison = pd.concat([chunk[chunk['Code type local'] == 1] for chunk in iter_csv]) \n",
    "df_maison.info()"
   ]
  },
  {
   "cell_type": "code",
   "execution_count": null,
   "metadata": {},
   "outputs": [],
   "source": [
    "## à vérifier si cela fonctionne\n",
    "engine = create_engine('sqlite:///../data/transactions.sqlite', echo = True)\n",
    "Session = sessionmaker(bind=engine)\n",
    "Base = declarative_base()"
   ]
  },
  {
   "cell_type": "code",
   "execution_count": null,
   "metadata": {},
   "outputs": [],
   "source": [
    "# convert the 'Date' column to datetime format \\n\n",
    "df_maison['Date mutation']= pd.to_datetime(df_maison['Date mutation'],format= \"%d/%m/%Y\")\n",
    "df_maison= df_maison.drop(['Date_mutation'], axis = 1)"
   ]
  },
  {
   "cell_type": "code",
   "execution_count": null,
   "metadata": {},
   "outputs": [],
   "source": [
    "# supression des colonnes innutiles avant chargement dans db \n",
    "df_maison=df_maison.drop(['Code service CH', 'Reference document', '1 Articles CGI',\n",
    "'2 Articles CGI', '3 Articles CGI', '4 Articles CGI', '5 Articles CGI','No Volume','Identifiant local'], axis =1 )"
   ]
  },
  {
   "cell_type": "code",
   "execution_count": null,
   "metadata": {},
   "outputs": [],
   "source": [
    "# à corriger en reprenant typo de l'exercice foot\n",
    "class Transactions_maisons(Base):\n",
    "        __tablename__ = 'dvf_maisons'\n",
    "\n",
    "        id = Column(Integer, primary_key=True)\n",
    "        no_disposition = Column(Integer)\n",
    "        date_mutation = Column(Date)\n",
    "        nature_mutation = Column(String)\n",
    "        valeur_fonciere = Column(Integer)\n",
    "        no_voie = Column(Integer)\n",
    "        b_t_q = Column(String)\n",
    "        type_voie = Column(String)\n",
    "        code_voie = Column(String)\n",
    "        voie = Column(String)\n",
    "        code_postal = Column(Integer)\n",
    "        commune = Column(String)\n",
    "        code_departement = Column(String)\n",
    "        code_commune = Column(String)\n",
    "        prefixe_section = Column(String)\n",
    "        section = Column(String)\n",
    "        no_plan = Column(Integer)\n",
    "        lot_1 = Column(String)\n",
    "        surface_carrez_1er_lot = Column(Integer)\n",
    "        lot_2 = Column(String)\n",
    "        surface_carrez_2eme_lot = Column(Integer)\n",
    "        lot_3 = Column(String)\n",
    "        surface_carrez_3eme_lot = Column(Integer)\n",
    "        lot_4 = Column(String)\n",
    "        surface_carrez_4eme_lot = Column(Integer)\n",
    "        lot_5 = Column(String)\n",
    "        surface_carrez_5eme_lot = Column(Integer)\n",
    "        nombre_lots = Column(Integer)\n",
    "        code_type_local = Column(Float)\n",
    "        type_local = Column(String)\n",
    "        surface_reelle_bati = Column(Integer)\n",
    "        nombre_pieces_principales = Column(Integer)\n",
    "        nature_culture = Column(String)\n",
    "        nature_culture_speciale = Column(String)\n",
    "        surface_terrain = Column(Integer)\n",
    "        \n",
    "        def __init__(self, no_disposition, date_mutation, nature_mutation, valeur_fonciere, no_voie,\n",
    "                     b_t_q, type_voie, code_voie, voie, code_postal, commune, code_departement, \n",
    "                     code_commune, prefixe_section, section, no_plan, lot_1, surface_carrez_1er_lot, \n",
    "                     surface_carrez_2eme_lot, surface_carrez_3eme_lot, surface_carrez_4eme_lot, \n",
    "                     surface_carrez_5eme_lot, lot_2, lot_3, lot_4, lot_5, nombre_lots, code_type_local, \n",
    "                     type_local, surface_reelle_bati, nombre_pieces_principales, nature_culture, nature_culture_speciale,\n",
    "                     surface_terrain ):\n",
    "            self.no_disposition = no_disposition \n",
    "            self.date_mutation = date_mutation \n",
    "            self.nature_mutation = nature_mutation\n",
    "            self.valeur_fonciere = valeur_fonciere \n",
    "            self.no_voie = no_voie\n",
    "            self.b_t_q = b_t_q \n",
    "            self.type_voie = type_voie \n",
    "            self.code_voie = code_voie \n",
    "            self.voie = voie \n",
    "            self.code_postal = code_postal\n",
    "            self.commune = commune\n",
    "            self.code_departement = code_departement\n",
    "            self.code_commune = code_commune\n",
    "            self.prefixe_section = prefixe_section\n",
    "            self.section = section\n",
    "            self.no_plan = no_plan\n",
    "            self.lot_1 = lot_1\n",
    "            self.surface_carrez_1er_lot = surface_carrez_1er_lot\n",
    "            self.lot_2 = lot_2\n",
    "            self.surface_carrez_2eme_lot = surface_carrez_2eme_lot\n",
    "            self.lot_3 = lot_3\n",
    "            self.surface_carrez_3eme_lot = surface_carrez_3eme_lot\n",
    "            self.lot_4 = lot_4\n",
    "            self.surface_carrez_4eme_lot = surface_carrez_4eme_lot\n",
    "            self.lot_5 = lot_5\n",
    "            self.surface_carrez_5eme_lot = surface_carrez_5eme_lot\n",
    "            self.nombre_lots = nombre_lots\n",
    "            self.code_type_local = code_type_local\n",
    "            self.type_local = type_local\n",
    "            self.surface_reelle_bati = surface_reelle_bati\n",
    "            self.nombre_pieces_principales = nombre_pieces_principales\n",
    "            self.nature_culture = nature_culture\n",
    "            self.nature_culture_speciale = nature_culture_speciale\n",
    "            self.surface_terrain =surface_terrain "
   ]
  },
  {
   "cell_type": "code",
   "execution_count": null,
   "metadata": {},
   "outputs": [],
   "source": [
    "# delete table\n",
    "#Transactions_maisons.__table__.drop(engine)\""
   ]
  },
  {
   "cell_type": "code",
   "execution_count": null,
   "metadata": {},
   "outputs": [],
   "source": [
    "# 2 - generate database schema\n",
    "Base.metadata.create_all(engine)\n",
    "# 3 - create a new session\n",
    "session = Session()"
   ]
  },
  {
   "cell_type": "code",
   "execution_count": null,
   "metadata": {},
   "outputs": [],
   "source": [
    "for i,transaction in df_maison.iterrows():\n",
    "        new_transaction = Transactions_maisons(transaction.values[0],transaction.values[1],transaction.values[2],transaction.values[3],transaction.values[4],\n",
    "                                              transaction.values[5],transaction.values[6],transaction.values[7],transaction.values[8],transaction.values[9],\n",
    "                                              transaction.values[10],transaction.values[11],transaction.values[12],transaction.values[13],transaction.values[14],\n",
    "                                              transaction.values[15],transaction.values[16],transaction.values[17],transaction.values[18],transaction.values[19],\n",
    "                                              transaction.values[20],transaction.values[21],transaction.values[22],transaction.values[23],transaction.values[24],\n",
    "                                              transaction.values[25],transaction.values[26],transaction.values[27],transaction.values[28],transaction.values[29],\n",
    "                                              transaction.values[30],transaction.values[31],transaction.values[32],transaction.values[33])\n",
    "        session.add(new_transaction)"
   ]
  },
  {
   "cell_type": "code",
   "execution_count": null,
   "metadata": {},
   "outputs": [],
   "source": [
    "session.commit()\n",
    "session.close()"
   ]
  }
 ],
 "metadata": {
  "language_info": {
   "name": "python"
  },
  "orig_nbformat": 4
 },
 "nbformat": 4,
 "nbformat_minor": 2
}
