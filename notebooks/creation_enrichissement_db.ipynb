{
 "cells": [
  {
   "cell_type": "code",
   "execution_count": 1,
   "id": "728a2f15",
   "metadata": {},
   "outputs": [],
   "source": [
    "import pandas as pd\n",
    "import requests \n",
    "import numpy as np "
   ]
  },
  {
   "cell_type": "code",
   "execution_count": 2,
   "id": "0ddc0edb",
   "metadata": {},
   "outputs": [],
   "source": [
    "from sqlalchemy import create_engine, Table, Column, Integer, String, Float, Boolean, Date, MetaData, ForeignKey\n",
    "from sqlalchemy.orm import relationship, backref, sessionmaker\n",
    "from sqlalchemy.ext.declarative import declarative_base\n"
   ]
  },
  {
   "cell_type": "code",
   "execution_count": 3,
   "id": "b0f8f9a2",
   "metadata": {},
   "outputs": [],
   "source": [
    "# sqlite://<nohostname>/<path>\n",
    "# where <path> is relative:\n",
    "engine = create_engine('sqlite:///../data/transactions.sqlite', echo = True)\n",
    "Session = sessionmaker(bind=engine)\n",
    "\n",
    "Base = declarative_base()"
   ]
  },
  {
   "cell_type": "code",
   "execution_count": null,
   "id": "923bfbba",
   "metadata": {},
   "outputs": [],
   "source": [
    "# choix à faire sur l'architecture base de données : \n",
    "## soit transactions(avec base maisons et base appartements), soit adresses"
   ]
  },
  {
   "cell_type": "code",
   "execution_count": null,
   "id": "ba29856a",
   "metadata": {},
   "outputs": [],
   "source": [
    "df_maison = pd.read_csv()"
   ]
  },
  {
   "cell_type": "code",
   "execution_count": null,
   "id": "2abc94d8",
   "metadata": {},
   "outputs": [],
   "source": [
    "class Transactions_maisons(Base):\n",
    "    __tablename__ = 'transactions_maisons'\n",
    "\n",
    "    id = Column(Integer, primary_key=True)\n",
    "    name = Column(String)\n",
    "    city = Column(String)\n",
    "    coach_name = Column(String)\n",
    "    players=relationship(\"Players\", back_populates=\"team\")\n",
    "    matches= relationship(\"MatchsTeamsLink\", back_populates=\"teams\")\n",
    "\n",
    "    \n",
    "    def __init__(self, name, city, coach_name):\n",
    "        self.name = name\n",
    "        self.city = city\n",
    "        self.coach_name = coach_name\n",
    "#"
   ]
  }
 ],
 "metadata": {
  "kernelspec": {
   "display_name": "house_prediction",
   "language": "python",
   "name": "house_prediction"
  },
  "language_info": {
   "codemirror_mode": {
    "name": "ipython",
    "version": 3
   },
   "file_extension": ".py",
   "mimetype": "text/x-python",
   "name": "python",
   "nbconvert_exporter": "python",
   "pygments_lexer": "ipython3",
   "version": "3.8.6"
  },
  "toc": {
   "base_numbering": 1,
   "nav_menu": {},
   "number_sections": true,
   "sideBar": true,
   "skip_h1_title": false,
   "title_cell": "Table of Contents",
   "title_sidebar": "Contents",
   "toc_cell": false,
   "toc_position": {},
   "toc_section_display": true,
   "toc_window_display": false
  }
 },
 "nbformat": 4,
 "nbformat_minor": 5
}
