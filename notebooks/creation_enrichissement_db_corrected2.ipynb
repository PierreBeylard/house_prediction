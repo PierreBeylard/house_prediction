{
 "cells": [
  {
   "cell_type": "code",
   "execution_count": 6,
   "metadata": {},
   "outputs": [
    {
     "data": {
      "text/plain": [
       "'fr_FR.UTF-8'"
      ]
     },
     "execution_count": 6,
     "metadata": {},
     "output_type": "execute_result"
    }
   ],
   "source": [
    "# Imports\n",
    "## Import data preparation libraries\n",
    "import pandas as pd \n",
    "import numpy as np \n",
    "from datetime import datetime\n",
    "\n",
    "from optbinning import BinningProcess\n",
    "\n",
    "##Import data enrichment library\n",
    "import requests \n",
    "\n",
    "## Import database libraries \n",
    "from sqlalchemy import create_engine, Table, Column, Integer, String, Float, Boolean, Date, MetaData, ForeignKey\n",
    "from sqlalchemy.orm import relationship, backref, sessionmaker\n",
    "from sqlalchemy.ext.declarative import declarative_base\n",
    "\n",
    "from locale import atof, setlocale, LC_NUMERIC, LC_ALL\n",
    "setlocale(LC_ALL, 'fr_FR.UTF-8')"
   ]
  },
  {
   "cell_type": "code",
   "execution_count": null,
   "metadata": {},
   "outputs": [],
   "source": [
    "# choix à faire sur l'architecture base de données :\n",
    "## soit transactions(avec base maisons et base appartements), soit adresses\n",
    "iter_csv= pd.read_csv(\"../data/valeursfoncieres-2021.txt\", sep='|',iterator=True, chunksize=100000, low_memory = False)\n",
    "df_maison = pd.concat([chunk[chunk['Code type local'] == 1] for chunk in iter_csv]) \n",
    "df_maison.info()"
   ]
  },
  {
   "cell_type": "code",
   "execution_count": null,
   "metadata": {},
   "outputs": [],
   "source": [
    "#df_tot= pd.read_csv(\"../data/valeursfoncieres-2021.txt\", sep='|', low_memory = False, nrows=10000)"
   ]
  },
  {
   "cell_type": "code",
   "execution_count": 1,
   "metadata": {},
   "outputs": [],
   "source": [
    "import pandas as pd\n",
    "\n",
    "\n",
    "class GetData:\n",
    "    \"\"\" Read data from csv and load it in a dataframe\n",
    "    accepted arguments : path to file , separator, chunksize and filter\n",
    "    option to load csv by filtering on house type\n",
    "    \"\"\"\n",
    "\n",
    "    def __init__(self,\n",
    "                 path=\"../data/valeursfoncieres-2021.txt\",\n",
    "                 sep=\"|\",\n",
    "                 chunksize=100000):\n",
    "        self.path = path\n",
    "        self.sep = sep\n",
    "        self.chunksize = chunksize\n",
    "\n",
    "    def read_csv(self, filtering_column='Code type local', filter=1):\n",
    "        \"\"\" pass option on which column to filter and filter value\n",
    "        if several filter value, pass the as a list\"\"\"\n",
    "        iter_csv = pd.read_csv(self.path,\n",
    "                               sep=self.sep,\n",
    "                               iterator=True,\n",
    "                               chunksize=self.chunksize,\n",
    "                               low_memory=False)\n",
    "        self.df = pd.concat(\n",
    "            [chunk[chunk[filtering_column].isin(filter)] for chunk in iter_csv])\n",
    "        return self.df\n",
    "\n",
    "    def enrichissement_coordinates(self, df):\n",
    "        pass\n"
   ]
  },
  {
   "cell_type": "code",
   "execution_count": null,
   "metadata": {},
   "outputs": [],
   "source": [
    "#df_tot[df_tot.index.isin([71,72,73,74])]"
   ]
  },
  {
   "cell_type": "code",
   "execution_count": 53,
   "metadata": {},
   "outputs": [],
   "source": [
    "df2= GetData().read_csv(filter=[1,3])"
   ]
  },
  {
   "cell_type": "code",
   "execution_count": null,
   "metadata": {},
   "outputs": [],
   "source": [
    "# code pour voir comment est rempli pythonpath\n",
    "#import sys\n",
    "#print(sys.path)"
   ]
  },
  {
   "cell_type": "code",
   "execution_count": null,
   "metadata": {},
   "outputs": [],
   "source": [
    "#df2['Valeur fonciere']= df2['Valeur fonciere'].apply(lambda x: atof(x))"
   ]
  },
  {
   "cell_type": "code",
   "execution_count": 51,
   "metadata": {},
   "outputs": [],
   "source": [
    "#from house_prediction_package.data import GetData\n",
    "import pandas as pd\n",
    "import numpy as np\n",
    "from datetime import datetime\n",
    "from more_itertools import chunked\n",
    "from scipy import stats\n",
    "\n",
    "from sklearn.model_selection import train_test_split\n",
    "\n",
    "class Preprocessing :\n",
    "\n",
    "    def __init__(self,df) :\n",
    "        # self.df = get_data().read_csv()\n",
    "        self.df = df\n",
    "\n",
    "    def clean_columns(self,\n",
    "                      columns=[\n",
    "                          'Code service CH', 'Reference document',\n",
    "                          '1 Articles CGI', '2 Articles CGI', '3 Articles CGI',\n",
    "                          '4 Articles CGI', '5 Articles CGI', 'No Volume',\n",
    "                          'Identifiant local'\n",
    "                      ]):\n",
    "        \"\"\" drop useless columns\n",
    "        Customisation of columns to drop must be entered as a list\n",
    "        \"\"\"\n",
    "        # suppression of 100% empty columns - these columns are officially not completed in this db\n",
    "        self.df = self.df.drop(columns,axis=1)\n",
    "        # suppression of columns poorly completed\n",
    "        columns_to_drop = [column for column in self.df.columns if ((self.df[column].isnull().value_counts().sort_index()[0]/self.df.shape[0])*100) < 2 ]\n",
    "        self.df= self.df.drop(columns_to_drop,axis=1)\n",
    "        # suppression of nan value on target variable\n",
    "        self.df= self.df.dropna(subset=['Valeur fonciere'])\n",
    "        # pre processing avant groupby mais attention sortir valeures foncieres avant de mettre en POO\n",
    "        ob_columns= self.df.dtypes[self.df.dtypes == 'O'].index\n",
    "        num_columns= self.df.dtypes[self.df.dtypes == ''].index\n",
    "        for column in ob_columns :\n",
    "            self.df[column]=self.df[column].replace(np.nan,'',regex=True)\n",
    "        #à adapter in v2\n",
    "        self.df[[\n",
    "                'Surface terrain', 'Surface reelle bati',\n",
    "                'Nombre pieces principales', 'Surface Carrez du 1er lot'\n",
    "        ]] = self.df[[\n",
    "                'Surface terrain', 'Surface reelle bati',\n",
    "                'Nombre pieces principales', 'Surface Carrez du 1er lot'\n",
    "            ]].apply(pd.to_numeric, errors='coerce')\n",
    "        #drop duplicates\n",
    "        #self.df = self.df.drop_duplicates().reset_index(drop= True)\n",
    "        # by returning self, we can do method chaining like preprocessing(df).clean_columns().create_identifier()\n",
    "        return self\n",
    "\n",
    "    def create_identifier(self) :\n",
    "        \"\"\" Create a 'unique' identifier allowing us to group several lines corresponding to a unique transaction\n",
    "        \"\"\"\n",
    "        variables_to_clean = [\n",
    "            \"Code departement\", \"Code commune\", \"Prefixe de section\",\n",
    "            \"Section\", \"No plan\"\n",
    "            ]\n",
    "        size_variables= [2,3,3,2,4]\n",
    "        for i,j in zip(variables_to_clean,size_variables):\n",
    "            chunked_data = chunked(self.df[i], 10000, strict=False)\n",
    "            values = {\"Prefixe de section\": '000'}\n",
    "            self.df= self.df.fillna(value=values)\n",
    "            if i == \"Prefixe de section\" :\n",
    "                self.df[i] = self.df[i].apply(str).apply(lambda x: x[:3])\n",
    "            new_variable = [\n",
    "                str(value).replace(\".\",\"\").zfill(j) for sublist in list(chunked_data)\n",
    "                for value in sublist\n",
    "            ]\n",
    "            self.df[f\"clean_{i.replace(' ','_').lower()}\"] = new_variable\n",
    "            self.df= self.df.drop([i],axis=1)\n",
    "        self.df[\"parcelle_cadastrale\"] = self.df[[\n",
    "            \"clean_code_departement\", \"clean_code_commune\", \"clean_prefixe_de_section\",\n",
    "            \"clean_section\", \"clean_no_plan\"]].apply(lambda x: \"\".join(x), axis=1)\n",
    "        self.df[\"parcelle_cad_section\"]=self.df[\"parcelle_cadastrale\"].str[:10]\n",
    "        self.df = self.df.drop([\n",
    "            \"clean_prefixe_de_section\", \"clean_section\", \"clean_no_plan\"\n",
    "        ], axis = 1)\n",
    "        return self\n",
    "\n",
    "    def aggregate_transactions(self):\n",
    "        self.df = self.df.groupby([\"parcelle_cad_section\",\"Date mutation\",\"Valeur fonciere\"], as_index= False).apply(lambda x : pd.Series({\n",
    "            \"B_T_Q\" : x[\"B/T/Q\"].max()\n",
    "            ,\"type_de_voie\": x[\"Type de voie\"].max()\n",
    "            ,\"voie\": x[\"Voie\"].max()\n",
    "            ,\"code_postal\": x[\"Code postal\"].max()\n",
    "            ,\"commune\": max(x[\"Commune\"])\n",
    "            ,\"clean_code_departement\": x[\"clean_code_departement\"].max()\n",
    "            ,\"clean_code_commune\": max(x[\"clean_code_commune\"])\n",
    "            ,\"surface_carrez_lot_1\" :  x[\"Surface Carrez du 1er lot\"].sum()/(x[\"Surface reelle bati\"].count()/(x[\"Surface reelle bati\"].count()/x[\"Nature culture\"].nunique()))\n",
    "            ,\"Nb_lots\": x[(\"Nombre de lots\")].max()\n",
    "            ,\"surface_terrain\" : x[\"Surface terrain\"].sum()/(x[\"Surface terrain\"].count()/x[\"Surface terrain\"].nunique()) if int(x[\"Surface terrain\"].nunique()) > 1 and int(x[\"Nature culture\"].nunique()) >1 else x[\"Surface terrain\"].max()\n",
    "            ,\"surface_reelle_bati\" : x[\"Surface reelle bati\"].sum()/(x[\"Surface reelle bati\"].count()/(x[\"Surface reelle bati\"].count()/x[\"Nature culture\"].nunique()))\n",
    "            ,\"nb_pieces_principales\" : x[\"Nombre pieces principales\"].sum()/(x[\"Nombre pieces principales\"].count()/(x[\"Surface reelle bati\"].count()/x[\"Nature culture\"].nunique()))\n",
    "            ,\"dependance\" : x[\"Type local\"].unique()\n",
    "            ,\"main_type_terrain\" : x[\"Nature culture\"].max()\n",
    "            ,\"parcelle_cadastrale\": x[\"parcelle_cadastrale\"].max()}))\n",
    "        #drop rows with only dependances transactions as we focus on houses\n",
    "        self.df = self.df[self.df.dependance.apply(\n",
    "            lambda x: x.all() != \"Dépendance\")].reset_index(drop=True)\n",
    "        self.df[\"dependance\"] = self.df.dependance.apply(sorted, 1)\n",
    "        self.df[[\"Dependance\",\n",
    "                 \"Maison\"]] = pd.DataFrame(self.df.dependance.tolist(),\n",
    "                                           index=self.df.index)\n",
    "        self.df[\"Dependance\"] = [1 if value ==\"Dépendance\"else 0 for value in self.df[\"Dependance\"]]\n",
    "        self.df= self.df.drop([\"dependance\",\"Maison\"],axis =1)\n",
    "        return self.df\n",
    "\n",
    "    # to do : function calling enrichissement from data\n",
    "\n",
    "\n",
    "    def feature_generation (self):\n",
    "        # convert the 'Date' column to datetime format\n",
    "        self.df[\"month\"] = pd.to_datetime(\n",
    "            self.df[\"Date mutation\"],format=\"%d/%m/%Y\").dt.month\n",
    "        self.df= self.df.drop([\"Date mutation\"], axis = 1)\n",
    "        ## attention à ne faire qu'après avoir enrichi avec variables insee\n",
    "        dict_type_voie = dict()\n",
    "        for value in self.df[\"type_de_voie\"].value_counts()[self.df[\"type_de_voie\"].value_counts()<300 ].index.values :\n",
    "            dict_type_voie[value] = \"Autres\"\n",
    "        self.df=self.df.replace({\"type_voie\" : dict_type_voie})\n",
    "        self.df[\"type_de_voie\"]= self.df[\"type_de_voie\"].replace(np.nan,'vide')\n",
    "        return self\n",
    "\n",
    "    def zscore (self) :\n",
    "        # Calculate the z-score from scratch\n",
    "        self.df['Valeur fonciere']= df['Valeur fonciere'].apply(lambda x: atof(x))\n",
    "        standard_deviation = self.df[\"Valeur fonciere\"].std(ddof=0)\n",
    "        mean_value = self.df[\"Valeur fonciere\"].mean()\n",
    "        zscores = [(value - mean_value) / standard_deviation\n",
    "                for value in self.df[\"Valeur fonciere\"]]\n",
    "        self.df[\"zscores\"]= zscores\n",
    "        # absolute value of zscore and if sup x then 1  :\n",
    "        self.df[\"outlier\"] = (abs(self.df[\"zscores\"])>3).astype(int)\n",
    "        self.df=self.df[self.df[\"outlier\"] == 0].reset_index(drop=True)\n",
    "        self.df = self.df.drop([\"zscores\",\"outlier\"], axis = 1)\n",
    "        return self\n",
    "\n",
    "    def split_x_y (self):\n",
    "    ###### à supprimer lorsque je relancerai le modele deja présent dans la partie aggregation   \n",
    "        self.df[\"Dependance\"] = [1 if value ==\"Dépendance\"else 0 for value in self.df[\"Dependance\"]]\n",
    "        self.df= self.df.drop([\"dependance\",\"Maison\"],axis =1)\n",
    "    ######\n",
    "        columns_model = [\"type_de_voie\",\n",
    "            \"clean_code_departement\",\n",
    "            \"clean_code_commune\",\n",
    "            \"code_postal\",\n",
    "            \"surface_terrain\",\n",
    "            \"surface_reelle_bati\", \"nb_pieces_principales\",\n",
    "            \"main_type_terrain\",  \"Dependance\",\n",
    "            \"month\"]\n",
    "        # Séparation des variables catégorielles et numériques\n",
    "        categorical_features = [\"type_de_voie\", \"clean_code_departement\",\n",
    "            \"clean_code_commune\", \"code_postal\", \"main_type_terrain\",  \"Dependance\",\n",
    "            \"month\"]\n",
    "        numerical_features = [\n",
    "            \"surface_terrain\",\n",
    "            \"surface_reelle_bati\", \"nb_pieces_principales\"]\n",
    "        for column in categorical_features :\n",
    "            self.df[column]=self.df[column].replace(np.nan, \"\").apply(str)\n",
    "        # selection des variables\n",
    "        X = self.df[columns_model]\n",
    "        y = self.df[\"Valeur fonciere\"]\n",
    "\n",
    "        X_train, X_test, y_train, y_test = train_test_split(X,\n",
    "                                                            y,\n",
    "                                                            test_size=0.33,\n",
    "                                                            random_state=42)\n",
    "        return self.df,categorical_features, numerical_features, X_train, X_test, y_train, y_test\n"
   ]
  },
  {
   "cell_type": "code",
   "execution_count": 54,
   "metadata": {},
   "outputs": [],
   "source": [
    "df2 = Preprocessing(df2).clean_columns().create_identifier()\n",
    "#df2.to_csv(\"aggregatedfile.csv\", sep='|', encoding=\"utf-8\") "
   ]
  },
  {
   "cell_type": "code",
   "execution_count": 4,
   "metadata": {},
   "outputs": [
    {
     "name": "stderr",
     "output_type": "stream",
     "text": [
      "/home/pierre/.pyenv/versions/3.8.6/envs/simplon/lib/python3.8/site-packages/IPython/core/interactiveshell.py:3441: DtypeWarning: Columns (9) have mixed types.Specify dtype option on import or set low_memory=False.\n",
      "  exec(code_obj, self.user_global_ns, self.user_ns)\n"
     ]
    }
   ],
   "source": [
    "df = pd.read_csv(\"aggregatedfile.csv\",sep=\"|\",index_col=0 )"
   ]
  },
  {
   "cell_type": "code",
   "execution_count": 55,
   "metadata": {},
   "outputs": [
    {
     "ename": "KeyError",
     "evalue": "'type_de_voie'",
     "output_type": "error",
     "traceback": [
      "\u001b[0;31m---------------------------------------------------------------------------\u001b[0m",
      "\u001b[0;31mKeyError\u001b[0m                                  Traceback (most recent call last)",
      "\u001b[0;32m~/.pyenv/versions/3.8.6/envs/simplon/lib/python3.8/site-packages/pandas/core/indexes/base.py\u001b[0m in \u001b[0;36mget_loc\u001b[0;34m(self, key, method, tolerance)\u001b[0m\n\u001b[1;32m   3360\u001b[0m             \u001b[0;32mtry\u001b[0m\u001b[0;34m:\u001b[0m\u001b[0;34m\u001b[0m\u001b[0;34m\u001b[0m\u001b[0m\n\u001b[0;32m-> 3361\u001b[0;31m                 \u001b[0;32mreturn\u001b[0m \u001b[0mself\u001b[0m\u001b[0;34m.\u001b[0m\u001b[0m_engine\u001b[0m\u001b[0;34m.\u001b[0m\u001b[0mget_loc\u001b[0m\u001b[0;34m(\u001b[0m\u001b[0mcasted_key\u001b[0m\u001b[0;34m)\u001b[0m\u001b[0;34m\u001b[0m\u001b[0;34m\u001b[0m\u001b[0m\n\u001b[0m\u001b[1;32m   3362\u001b[0m             \u001b[0;32mexcept\u001b[0m \u001b[0mKeyError\u001b[0m \u001b[0;32mas\u001b[0m \u001b[0merr\u001b[0m\u001b[0;34m:\u001b[0m\u001b[0;34m\u001b[0m\u001b[0;34m\u001b[0m\u001b[0m\n",
      "\u001b[0;32m~/.pyenv/versions/3.8.6/envs/simplon/lib/python3.8/site-packages/pandas/_libs/index.pyx\u001b[0m in \u001b[0;36mpandas._libs.index.IndexEngine.get_loc\u001b[0;34m()\u001b[0m\n",
      "\u001b[0;32m~/.pyenv/versions/3.8.6/envs/simplon/lib/python3.8/site-packages/pandas/_libs/index.pyx\u001b[0m in \u001b[0;36mpandas._libs.index.IndexEngine.get_loc\u001b[0;34m()\u001b[0m\n",
      "\u001b[0;32mpandas/_libs/hashtable_class_helper.pxi\u001b[0m in \u001b[0;36mpandas._libs.hashtable.PyObjectHashTable.get_item\u001b[0;34m()\u001b[0m\n",
      "\u001b[0;32mpandas/_libs/hashtable_class_helper.pxi\u001b[0m in \u001b[0;36mpandas._libs.hashtable.PyObjectHashTable.get_item\u001b[0;34m()\u001b[0m\n",
      "\u001b[0;31mKeyError\u001b[0m: 'type_de_voie'",
      "\nThe above exception was the direct cause of the following exception:\n",
      "\u001b[0;31mKeyError\u001b[0m                                  Traceback (most recent call last)",
      "\u001b[0;32m/tmp/ipykernel_7032/935643791.py\u001b[0m in \u001b[0;36m<module>\u001b[0;34m\u001b[0m\n\u001b[0;32m----> 1\u001b[0;31m \u001b[0mdf2\u001b[0m\u001b[0;34m,\u001b[0m\u001b[0mcategorical_features\u001b[0m\u001b[0;34m,\u001b[0m \u001b[0mnumerical_features\u001b[0m\u001b[0;34m,\u001b[0m\u001b[0mX_train\u001b[0m\u001b[0;34m,\u001b[0m \u001b[0mX_test\u001b[0m\u001b[0;34m,\u001b[0m \u001b[0my_train\u001b[0m\u001b[0;34m,\u001b[0m \u001b[0my_test\u001b[0m \u001b[0;34m=\u001b[0m \u001b[0mPreprocessing\u001b[0m\u001b[0;34m(\u001b[0m\u001b[0mdf2\u001b[0m\u001b[0;34m)\u001b[0m\u001b[0;34m.\u001b[0m\u001b[0mfeature_generation\u001b[0m\u001b[0;34m(\u001b[0m\u001b[0;34m)\u001b[0m\u001b[0;34m.\u001b[0m\u001b[0mzscore\u001b[0m\u001b[0;34m(\u001b[0m\u001b[0;34m)\u001b[0m\u001b[0;34m.\u001b[0m\u001b[0msplit_x_y\u001b[0m\u001b[0;34m(\u001b[0m\u001b[0;34m)\u001b[0m\u001b[0;34m\u001b[0m\u001b[0;34m\u001b[0m\u001b[0m\n\u001b[0m",
      "\u001b[0;32m/tmp/ipykernel_7032/997375458.py\u001b[0m in \u001b[0;36mfeature_generation\u001b[0;34m(self)\u001b[0m\n\u001b[1;32m    110\u001b[0m         \u001b[0;31m## attention à ne faire qu'après avoir enrichi avec variables insee\u001b[0m\u001b[0;34m\u001b[0m\u001b[0;34m\u001b[0m\u001b[0;34m\u001b[0m\u001b[0m\n\u001b[1;32m    111\u001b[0m         \u001b[0mdict_type_voie\u001b[0m \u001b[0;34m=\u001b[0m \u001b[0mdict\u001b[0m\u001b[0;34m(\u001b[0m\u001b[0;34m)\u001b[0m\u001b[0;34m\u001b[0m\u001b[0;34m\u001b[0m\u001b[0m\n\u001b[0;32m--> 112\u001b[0;31m         \u001b[0;32mfor\u001b[0m \u001b[0mvalue\u001b[0m \u001b[0;32min\u001b[0m \u001b[0mself\u001b[0m\u001b[0;34m.\u001b[0m\u001b[0mdf\u001b[0m\u001b[0;34m[\u001b[0m\u001b[0;34m\"type_de_voie\"\u001b[0m\u001b[0;34m]\u001b[0m\u001b[0;34m.\u001b[0m\u001b[0mvalue_counts\u001b[0m\u001b[0;34m(\u001b[0m\u001b[0;34m)\u001b[0m\u001b[0;34m[\u001b[0m\u001b[0mself\u001b[0m\u001b[0;34m.\u001b[0m\u001b[0mdf\u001b[0m\u001b[0;34m[\u001b[0m\u001b[0;34m\"type_de_voie\"\u001b[0m\u001b[0;34m]\u001b[0m\u001b[0;34m.\u001b[0m\u001b[0mvalue_counts\u001b[0m\u001b[0;34m(\u001b[0m\u001b[0;34m)\u001b[0m\u001b[0;34m<\u001b[0m\u001b[0;36m300\u001b[0m \u001b[0;34m]\u001b[0m\u001b[0;34m.\u001b[0m\u001b[0mindex\u001b[0m\u001b[0;34m.\u001b[0m\u001b[0mvalues\u001b[0m \u001b[0;34m:\u001b[0m\u001b[0;34m\u001b[0m\u001b[0;34m\u001b[0m\u001b[0m\n\u001b[0m\u001b[1;32m    113\u001b[0m             \u001b[0mdict_type_voie\u001b[0m\u001b[0;34m[\u001b[0m\u001b[0mvalue\u001b[0m\u001b[0;34m]\u001b[0m \u001b[0;34m=\u001b[0m \u001b[0;34m\"Autres\"\u001b[0m\u001b[0;34m\u001b[0m\u001b[0;34m\u001b[0m\u001b[0m\n\u001b[1;32m    114\u001b[0m         \u001b[0mself\u001b[0m\u001b[0;34m.\u001b[0m\u001b[0mdf\u001b[0m\u001b[0;34m=\u001b[0m\u001b[0mself\u001b[0m\u001b[0;34m.\u001b[0m\u001b[0mdf\u001b[0m\u001b[0;34m.\u001b[0m\u001b[0mreplace\u001b[0m\u001b[0;34m(\u001b[0m\u001b[0;34m{\u001b[0m\u001b[0;34m\"type_voie\"\u001b[0m \u001b[0;34m:\u001b[0m \u001b[0mdict_type_voie\u001b[0m\u001b[0;34m}\u001b[0m\u001b[0;34m)\u001b[0m\u001b[0;34m\u001b[0m\u001b[0;34m\u001b[0m\u001b[0m\n",
      "\u001b[0;32m~/.pyenv/versions/3.8.6/envs/simplon/lib/python3.8/site-packages/pandas/core/frame.py\u001b[0m in \u001b[0;36m__getitem__\u001b[0;34m(self, key)\u001b[0m\n\u001b[1;32m   3453\u001b[0m             \u001b[0;32mif\u001b[0m \u001b[0mself\u001b[0m\u001b[0;34m.\u001b[0m\u001b[0mcolumns\u001b[0m\u001b[0;34m.\u001b[0m\u001b[0mnlevels\u001b[0m \u001b[0;34m>\u001b[0m \u001b[0;36m1\u001b[0m\u001b[0;34m:\u001b[0m\u001b[0;34m\u001b[0m\u001b[0;34m\u001b[0m\u001b[0m\n\u001b[1;32m   3454\u001b[0m                 \u001b[0;32mreturn\u001b[0m \u001b[0mself\u001b[0m\u001b[0;34m.\u001b[0m\u001b[0m_getitem_multilevel\u001b[0m\u001b[0;34m(\u001b[0m\u001b[0mkey\u001b[0m\u001b[0;34m)\u001b[0m\u001b[0;34m\u001b[0m\u001b[0;34m\u001b[0m\u001b[0m\n\u001b[0;32m-> 3455\u001b[0;31m             \u001b[0mindexer\u001b[0m \u001b[0;34m=\u001b[0m \u001b[0mself\u001b[0m\u001b[0;34m.\u001b[0m\u001b[0mcolumns\u001b[0m\u001b[0;34m.\u001b[0m\u001b[0mget_loc\u001b[0m\u001b[0;34m(\u001b[0m\u001b[0mkey\u001b[0m\u001b[0;34m)\u001b[0m\u001b[0;34m\u001b[0m\u001b[0;34m\u001b[0m\u001b[0m\n\u001b[0m\u001b[1;32m   3456\u001b[0m             \u001b[0;32mif\u001b[0m \u001b[0mis_integer\u001b[0m\u001b[0;34m(\u001b[0m\u001b[0mindexer\u001b[0m\u001b[0;34m)\u001b[0m\u001b[0;34m:\u001b[0m\u001b[0;34m\u001b[0m\u001b[0;34m\u001b[0m\u001b[0m\n\u001b[1;32m   3457\u001b[0m                 \u001b[0mindexer\u001b[0m \u001b[0;34m=\u001b[0m \u001b[0;34m[\u001b[0m\u001b[0mindexer\u001b[0m\u001b[0;34m]\u001b[0m\u001b[0;34m\u001b[0m\u001b[0;34m\u001b[0m\u001b[0m\n",
      "\u001b[0;32m~/.pyenv/versions/3.8.6/envs/simplon/lib/python3.8/site-packages/pandas/core/indexes/base.py\u001b[0m in \u001b[0;36mget_loc\u001b[0;34m(self, key, method, tolerance)\u001b[0m\n\u001b[1;32m   3361\u001b[0m                 \u001b[0;32mreturn\u001b[0m \u001b[0mself\u001b[0m\u001b[0;34m.\u001b[0m\u001b[0m_engine\u001b[0m\u001b[0;34m.\u001b[0m\u001b[0mget_loc\u001b[0m\u001b[0;34m(\u001b[0m\u001b[0mcasted_key\u001b[0m\u001b[0;34m)\u001b[0m\u001b[0;34m\u001b[0m\u001b[0;34m\u001b[0m\u001b[0m\n\u001b[1;32m   3362\u001b[0m             \u001b[0;32mexcept\u001b[0m \u001b[0mKeyError\u001b[0m \u001b[0;32mas\u001b[0m \u001b[0merr\u001b[0m\u001b[0;34m:\u001b[0m\u001b[0;34m\u001b[0m\u001b[0;34m\u001b[0m\u001b[0m\n\u001b[0;32m-> 3363\u001b[0;31m                 \u001b[0;32mraise\u001b[0m \u001b[0mKeyError\u001b[0m\u001b[0;34m(\u001b[0m\u001b[0mkey\u001b[0m\u001b[0;34m)\u001b[0m \u001b[0;32mfrom\u001b[0m \u001b[0merr\u001b[0m\u001b[0;34m\u001b[0m\u001b[0;34m\u001b[0m\u001b[0m\n\u001b[0m\u001b[1;32m   3364\u001b[0m \u001b[0;34m\u001b[0m\u001b[0m\n\u001b[1;32m   3365\u001b[0m         \u001b[0;32mif\u001b[0m \u001b[0mis_scalar\u001b[0m\u001b[0;34m(\u001b[0m\u001b[0mkey\u001b[0m\u001b[0;34m)\u001b[0m \u001b[0;32mand\u001b[0m \u001b[0misna\u001b[0m\u001b[0;34m(\u001b[0m\u001b[0mkey\u001b[0m\u001b[0;34m)\u001b[0m \u001b[0;32mand\u001b[0m \u001b[0;32mnot\u001b[0m \u001b[0mself\u001b[0m\u001b[0;34m.\u001b[0m\u001b[0mhasnans\u001b[0m\u001b[0;34m:\u001b[0m\u001b[0;34m\u001b[0m\u001b[0;34m\u001b[0m\u001b[0m\n",
      "\u001b[0;31mKeyError\u001b[0m: 'type_de_voie'"
     ]
    }
   ],
   "source": [
    "df,categorical_features, numerical_features,X_train, X_test, y_train, y_test = Preprocessing(df).feature_generation().zscore().split_x_y()"
   ]
  },
  {
   "cell_type": "markdown",
   "metadata": {},
   "source": [
    "## test optbinning \n"
   ]
  },
  {
   "cell_type": "markdown",
   "metadata": {},
   "source": [
    "http://gnpalencia.org/optbinning/tutorials/tutorial_piecewise_continuous.html"
   ]
  },
  {
   "cell_type": "code",
   "execution_count": null,
   "metadata": {},
   "outputs": [],
   "source": [
    "from sklearn.linear_model import LinearRegression\n",
    "from sklearn.metrics import mean_squared_error, mean_absolute_error, r2_score\n",
    "from sklearn.model_selection import train_test_split\n",
    "from sklearn.pipeline import Pipeline\n",
    "from sklearn.datasets import load_boston"
   ]
  },
  {
   "cell_type": "code",
   "execution_count": 8,
   "metadata": {},
   "outputs": [],
   "source": [
    "from optbinning import ContinuousOptimalPWBinning"
   ]
  },
  {
   "cell_type": "code",
   "execution_count": 9,
   "metadata": {},
   "outputs": [
    {
     "data": {
      "text/plain": [
       "Index(['parcelle_cad_section', 'Valeur fonciere', 'B_T_Q', 'type_de_voie',\n",
       "       'voie', 'code_postal', 'commune', 'clean_code_departement',\n",
       "       'clean_code_commune', 'surface_carrez_lot_1', 'Nb_lots',\n",
       "       'surface_terrain', 'surface_reelle_bati', 'nb_pieces_principales',\n",
       "       'main_type_terrain', 'parcelle_cadastrale', 'Dependance', 'month'],\n",
       "      dtype='object')"
      ]
     },
     "execution_count": 9,
     "metadata": {},
     "output_type": "execute_result"
    }
   ],
   "source": [
    "df.columns"
   ]
  },
  {
   "cell_type": "code",
   "execution_count": 37,
   "metadata": {},
   "outputs": [],
   "source": [
    "variable = \"surface_reelle_bati\"\n",
    "x = df[variable]\n",
    "y = df['Valeur fonciere']"
   ]
  },
  {
   "cell_type": "code",
   "execution_count": 28,
   "metadata": {},
   "outputs": [
    {
     "data": {
      "text/html": [
       "<div>\n",
       "<style scoped>\n",
       "    .dataframe tbody tr th:only-of-type {\n",
       "        vertical-align: middle;\n",
       "    }\n",
       "\n",
       "    .dataframe tbody tr th {\n",
       "        vertical-align: top;\n",
       "    }\n",
       "\n",
       "    .dataframe thead th {\n",
       "        text-align: right;\n",
       "    }\n",
       "</style>\n",
       "<table border=\"1\" class=\"dataframe\">\n",
       "  <thead>\n",
       "    <tr style=\"text-align: right;\">\n",
       "      <th></th>\n",
       "      <th>parcelle_cad_section</th>\n",
       "      <th>Valeur fonciere</th>\n",
       "      <th>B_T_Q</th>\n",
       "      <th>type_de_voie</th>\n",
       "      <th>voie</th>\n",
       "      <th>code_postal</th>\n",
       "      <th>commune</th>\n",
       "      <th>clean_code_departement</th>\n",
       "      <th>clean_code_commune</th>\n",
       "      <th>surface_carrez_lot_1</th>\n",
       "      <th>Nb_lots</th>\n",
       "      <th>surface_terrain</th>\n",
       "      <th>surface_reelle_bati</th>\n",
       "      <th>nb_pieces_principales</th>\n",
       "      <th>main_type_terrain</th>\n",
       "      <th>parcelle_cadastrale</th>\n",
       "      <th>Dependance</th>\n",
       "      <th>month</th>\n",
       "      <th>Valeur clean_code_commune</th>\n",
       "    </tr>\n",
       "  </thead>\n",
       "  <tbody>\n",
       "  </tbody>\n",
       "</table>\n",
       "</div>"
      ],
      "text/plain": [
       "Empty DataFrame\n",
       "Columns: [parcelle_cad_section, Valeur fonciere, B_T_Q, type_de_voie, voie, code_postal, commune, clean_code_departement, clean_code_commune, surface_carrez_lot_1, Nb_lots, surface_terrain, surface_reelle_bati, nb_pieces_principales, main_type_terrain, parcelle_cadastrale, Dependance, month, Valeur clean_code_commune]\n",
       "Index: []"
      ]
     },
     "execution_count": 28,
     "metadata": {},
     "output_type": "execute_result"
    }
   ],
   "source": [
    "df['clean_code_commune']= df['clean_code_commune'].apply(lambda x: atof(x))\n",
    "df[df['clean_code_commune'].map(type) == str] "
   ]
  },
  {
   "cell_type": "code",
   "execution_count": 38,
   "metadata": {},
   "outputs": [],
   "source": [
    "optb = ContinuousOptimalPWBinning(name=variable)"
   ]
  },
  {
   "cell_type": "code",
   "execution_count": 39,
   "metadata": {},
   "outputs": [
    {
     "data": {
      "text/plain": [
       "ContinuousOptimalPWBinning(name='surface_reelle_bati')"
      ]
     },
     "execution_count": 39,
     "metadata": {},
     "output_type": "execute_result"
    }
   ],
   "source": [
    "optb.fit(x, y)"
   ]
  },
  {
   "cell_type": "code",
   "execution_count": 40,
   "metadata": {},
   "outputs": [
    {
     "data": {
      "text/plain": [
       "array([ 48.25      ,  66.25      ,  72.25      ,  80.75      ,\n",
       "        85.75      ,  90.75      ,  96.25      , 100.75      ,\n",
       "       110.45000076, 122.25      , 136.58333588, 157.75      ,\n",
       "       188.875     ])"
      ]
     },
     "execution_count": 40,
     "metadata": {},
     "output_type": "execute_result"
    }
   ],
   "source": [
    "optb.splits"
   ]
  },
  {
   "cell_type": "code",
   "execution_count": 42,
   "metadata": {},
   "outputs": [],
   "source": [
    "binning_table = optb.binning_table"
   ]
  },
  {
   "cell_type": "code",
   "execution_count": 43,
   "metadata": {},
   "outputs": [
    {
     "data": {
      "text/html": [
       "<div>\n",
       "<style scoped>\n",
       "    .dataframe tbody tr th:only-of-type {\n",
       "        vertical-align: middle;\n",
       "    }\n",
       "\n",
       "    .dataframe tbody tr th {\n",
       "        vertical-align: top;\n",
       "    }\n",
       "\n",
       "    .dataframe thead th {\n",
       "        text-align: right;\n",
       "    }\n",
       "</style>\n",
       "<table border=\"1\" class=\"dataframe\">\n",
       "  <thead>\n",
       "    <tr style=\"text-align: right;\">\n",
       "      <th></th>\n",
       "      <th>Bin</th>\n",
       "      <th>Count</th>\n",
       "      <th>Count (%)</th>\n",
       "      <th>Sum</th>\n",
       "      <th>Std</th>\n",
       "      <th>Min</th>\n",
       "      <th>Max</th>\n",
       "      <th>Zeros count</th>\n",
       "      <th>c0</th>\n",
       "      <th>c1</th>\n",
       "    </tr>\n",
       "  </thead>\n",
       "  <tbody>\n",
       "    <tr>\n",
       "      <th>0</th>\n",
       "      <td>(-inf, 48.25)</td>\n",
       "      <td>22870</td>\n",
       "      <td>0.052930</td>\n",
       "      <td>2.825540e+09</td>\n",
       "      <td>210515.885957</td>\n",
       "      <td>1.0</td>\n",
       "      <td>10100000.0</td>\n",
       "      <td>0</td>\n",
       "      <td>82120.78641</td>\n",
       "      <td>1128.064963</td>\n",
       "    </tr>\n",
       "    <tr>\n",
       "      <th>1</th>\n",
       "      <td>[48.25, 66.25)</td>\n",
       "      <td>45164</td>\n",
       "      <td>0.104527</td>\n",
       "      <td>7.004418e+09</td>\n",
       "      <td>181317.732835</td>\n",
       "      <td>1.0</td>\n",
       "      <td>11150070.0</td>\n",
       "      <td>0</td>\n",
       "      <td>51242.387477</td>\n",
       "      <td>1768.03178</td>\n",
       "    </tr>\n",
       "    <tr>\n",
       "      <th>2</th>\n",
       "      <td>[66.25, 72.25)</td>\n",
       "      <td>24467</td>\n",
       "      <td>0.056626</td>\n",
       "      <td>4.250724e+09</td>\n",
       "      <td>176271.00871</td>\n",
       "      <td>1.0</td>\n",
       "      <td>9000000.0</td>\n",
       "      <td>0</td>\n",
       "      <td>53471.29333</td>\n",
       "      <td>1734.387917</td>\n",
       "    </tr>\n",
       "    <tr>\n",
       "      <th>3</th>\n",
       "      <td>[72.25, 80.75)</td>\n",
       "      <td>41090</td>\n",
       "      <td>0.095099</td>\n",
       "      <td>7.769055e+09</td>\n",
       "      <td>168460.800805</td>\n",
       "      <td>1.0</td>\n",
       "      <td>11528000.0</td>\n",
       "      <td>0</td>\n",
       "      <td>32169.29771</td>\n",
       "      <td>2029.225227</td>\n",
       "    </tr>\n",
       "    <tr>\n",
       "      <th>4</th>\n",
       "      <td>[80.75, 85.75)</td>\n",
       "      <td>26222</td>\n",
       "      <td>0.060688</td>\n",
       "      <td>5.277021e+09</td>\n",
       "      <td>173145.650925</td>\n",
       "      <td>1.0</td>\n",
       "      <td>8689292.0</td>\n",
       "      <td>0</td>\n",
       "      <td>26915.410199</td>\n",
       "      <td>2094.288849</td>\n",
       "    </tr>\n",
       "    <tr>\n",
       "      <th>5</th>\n",
       "      <td>[85.75, 90.75)</td>\n",
       "      <td>33049</td>\n",
       "      <td>0.076489</td>\n",
       "      <td>6.984240e+09</td>\n",
       "      <td>179990.628857</td>\n",
       "      <td>1.0</td>\n",
       "      <td>8600000.0</td>\n",
       "      <td>0</td>\n",
       "      <td>39919.895653</td>\n",
       "      <td>1942.633041</td>\n",
       "    </tr>\n",
       "    <tr>\n",
       "      <th>6</th>\n",
       "      <td>[90.75, 96.25)</td>\n",
       "      <td>29588</td>\n",
       "      <td>0.068478</td>\n",
       "      <td>6.565471e+09</td>\n",
       "      <td>160333.802102</td>\n",
       "      <td>1.0</td>\n",
       "      <td>8035464.5</td>\n",
       "      <td>0</td>\n",
       "      <td>44528.691123</td>\n",
       "      <td>1891.847417</td>\n",
       "    </tr>\n",
       "    <tr>\n",
       "      <th>7</th>\n",
       "      <td>[96.25, 100.75)</td>\n",
       "      <td>23415</td>\n",
       "      <td>0.054192</td>\n",
       "      <td>5.404377e+09</td>\n",
       "      <td>187990.53275</td>\n",
       "      <td>1.0</td>\n",
       "      <td>9000000.0</td>\n",
       "      <td>0</td>\n",
       "      <td>36817.515378</td>\n",
       "      <td>1971.963528</td>\n",
       "    </tr>\n",
       "    <tr>\n",
       "      <th>8</th>\n",
       "      <td>[100.75, 110.45)</td>\n",
       "      <td>40172</td>\n",
       "      <td>0.092974</td>\n",
       "      <td>9.990839e+09</td>\n",
       "      <td>181006.778353</td>\n",
       "      <td>1.0</td>\n",
       "      <td>8330000.0</td>\n",
       "      <td>0</td>\n",
       "      <td>-20153.682469</td>\n",
       "      <td>2537.434473</td>\n",
       "    </tr>\n",
       "    <tr>\n",
       "      <th>9</th>\n",
       "      <td>[110.45, 122.25)</td>\n",
       "      <td>37623</td>\n",
       "      <td>0.087075</td>\n",
       "      <td>1.023014e+10</td>\n",
       "      <td>223211.007383</td>\n",
       "      <td>1.0</td>\n",
       "      <td>11111111.0</td>\n",
       "      <td>0</td>\n",
       "      <td>72365.825922</td>\n",
       "      <td>1699.77483</td>\n",
       "    </tr>\n",
       "    <tr>\n",
       "      <th>10</th>\n",
       "      <td>[122.25, 136.58)</td>\n",
       "      <td>31905</td>\n",
       "      <td>0.073841</td>\n",
       "      <td>9.459077e+09</td>\n",
       "      <td>227844.616664</td>\n",
       "      <td>1.0</td>\n",
       "      <td>7950458.0</td>\n",
       "      <td>0</td>\n",
       "      <td>-54530.832592</td>\n",
       "      <td>2737.784306</td>\n",
       "    </tr>\n",
       "    <tr>\n",
       "      <th>11</th>\n",
       "      <td>[136.58, 157.75)</td>\n",
       "      <td>31865</td>\n",
       "      <td>0.073748</td>\n",
       "      <td>1.071334e+10</td>\n",
       "      <td>282127.951563</td>\n",
       "      <td>1.0</td>\n",
       "      <td>8000000.0</td>\n",
       "      <td>0</td>\n",
       "      <td>172464.633498</td>\n",
       "      <td>1075.828513</td>\n",
       "    </tr>\n",
       "    <tr>\n",
       "      <th>12</th>\n",
       "      <td>[157.75, 188.88)</td>\n",
       "      <td>22906</td>\n",
       "      <td>0.053014</td>\n",
       "      <td>8.822763e+09</td>\n",
       "      <td>355556.694727</td>\n",
       "      <td>1.0</td>\n",
       "      <td>10500000.0</td>\n",
       "      <td>0</td>\n",
       "      <td>-481102.000422</td>\n",
       "      <td>5218.881661</td>\n",
       "    </tr>\n",
       "    <tr>\n",
       "      <th>13</th>\n",
       "      <td>[188.88, inf)</td>\n",
       "      <td>21736</td>\n",
       "      <td>0.050306</td>\n",
       "      <td>1.229355e+10</td>\n",
       "      <td>742293.444767</td>\n",
       "      <td>1.0</td>\n",
       "      <td>11820000.0</td>\n",
       "      <td>0</td>\n",
       "      <td>378494.163179</td>\n",
       "      <td>667.743799</td>\n",
       "    </tr>\n",
       "    <tr>\n",
       "      <th>14</th>\n",
       "      <td>Special</td>\n",
       "      <td>0</td>\n",
       "      <td>0.000000</td>\n",
       "      <td>0.000000e+00</td>\n",
       "      <td>NaN</td>\n",
       "      <td>NaN</td>\n",
       "      <td>NaN</td>\n",
       "      <td>0</td>\n",
       "      <td>0.0</td>\n",
       "      <td>0.0</td>\n",
       "    </tr>\n",
       "    <tr>\n",
       "      <th>15</th>\n",
       "      <td>Missing</td>\n",
       "      <td>6</td>\n",
       "      <td>0.000014</td>\n",
       "      <td>1.045742e+06</td>\n",
       "      <td>70712.533028</td>\n",
       "      <td>24000.0</td>\n",
       "      <td>230000.0</td>\n",
       "      <td>0</td>\n",
       "      <td>174290.333333</td>\n",
       "      <td>0.0</td>\n",
       "    </tr>\n",
       "    <tr>\n",
       "      <th>Totals</th>\n",
       "      <td></td>\n",
       "      <td>432078</td>\n",
       "      <td>1.000000</td>\n",
       "      <td>1.075916e+11</td>\n",
       "      <td></td>\n",
       "      <td>1.0</td>\n",
       "      <td>11820000.0</td>\n",
       "      <td>0</td>\n",
       "      <td>-</td>\n",
       "      <td>-</td>\n",
       "    </tr>\n",
       "  </tbody>\n",
       "</table>\n",
       "</div>"
      ],
      "text/plain": [
       "                     Bin   Count  Count (%)           Sum            Std  \\\n",
       "0          (-inf, 48.25)   22870   0.052930  2.825540e+09  210515.885957   \n",
       "1         [48.25, 66.25)   45164   0.104527  7.004418e+09  181317.732835   \n",
       "2         [66.25, 72.25)   24467   0.056626  4.250724e+09   176271.00871   \n",
       "3         [72.25, 80.75)   41090   0.095099  7.769055e+09  168460.800805   \n",
       "4         [80.75, 85.75)   26222   0.060688  5.277021e+09  173145.650925   \n",
       "5         [85.75, 90.75)   33049   0.076489  6.984240e+09  179990.628857   \n",
       "6         [90.75, 96.25)   29588   0.068478  6.565471e+09  160333.802102   \n",
       "7        [96.25, 100.75)   23415   0.054192  5.404377e+09   187990.53275   \n",
       "8       [100.75, 110.45)   40172   0.092974  9.990839e+09  181006.778353   \n",
       "9       [110.45, 122.25)   37623   0.087075  1.023014e+10  223211.007383   \n",
       "10      [122.25, 136.58)   31905   0.073841  9.459077e+09  227844.616664   \n",
       "11      [136.58, 157.75)   31865   0.073748  1.071334e+10  282127.951563   \n",
       "12      [157.75, 188.88)   22906   0.053014  8.822763e+09  355556.694727   \n",
       "13         [188.88, inf)   21736   0.050306  1.229355e+10  742293.444767   \n",
       "14               Special       0   0.000000  0.000000e+00            NaN   \n",
       "15               Missing       6   0.000014  1.045742e+06   70712.533028   \n",
       "Totals                    432078   1.000000  1.075916e+11                  \n",
       "\n",
       "            Min         Max  Zeros count             c0           c1  \n",
       "0           1.0  10100000.0            0    82120.78641  1128.064963  \n",
       "1           1.0  11150070.0            0   51242.387477   1768.03178  \n",
       "2           1.0   9000000.0            0    53471.29333  1734.387917  \n",
       "3           1.0  11528000.0            0    32169.29771  2029.225227  \n",
       "4           1.0   8689292.0            0   26915.410199  2094.288849  \n",
       "5           1.0   8600000.0            0   39919.895653  1942.633041  \n",
       "6           1.0   8035464.5            0   44528.691123  1891.847417  \n",
       "7           1.0   9000000.0            0   36817.515378  1971.963528  \n",
       "8           1.0   8330000.0            0  -20153.682469  2537.434473  \n",
       "9           1.0  11111111.0            0   72365.825922   1699.77483  \n",
       "10          1.0   7950458.0            0  -54530.832592  2737.784306  \n",
       "11          1.0   8000000.0            0  172464.633498  1075.828513  \n",
       "12          1.0  10500000.0            0 -481102.000422  5218.881661  \n",
       "13          1.0  11820000.0            0  378494.163179   667.743799  \n",
       "14          NaN         NaN            0            0.0          0.0  \n",
       "15      24000.0    230000.0            0  174290.333333          0.0  \n",
       "Totals      1.0  11820000.0            0              -            -  "
      ]
     },
     "execution_count": 43,
     "metadata": {},
     "output_type": "execute_result"
    }
   ],
   "source": [
    "binning_table.build()"
   ]
  },
  {
   "cell_type": "code",
   "execution_count": 44,
   "metadata": {
    "scrolled": true
   },
   "outputs": [
    {
     "name": "stdout",
     "output_type": "stream",
     "text": [
      "-------------------------------------------------\n",
      "OptimalBinning: Continuous Binning Table Analysis\n",
      "-------------------------------------------------\n",
      "\n",
      "  General metrics\n",
      "\n",
      "    Mean absolute error         129986.40273710\n",
      "    Mean squared error     69053212586.18080139\n",
      "    Median absolute error        89739.50272902\n",
      "    Explained variance               0.12870063\n",
      "    R^2                              0.12870063\n",
      "    MPE                           -142.68870477\n",
      "    MAPE                           142.92311604\n",
      "    SMAPE                            0.26017247\n",
      "    MdAPE                            0.42742152\n",
      "    SMdAPE                           0.21337346\n",
      "    HHI                              0.07559595\n",
      "    HHI (normalized)                 0.01396901\n",
      "    Quality score                    0.98603000\n",
      "\n",
      "  Significance tests\n",
      "\n",
      "    Bin A  Bin B  t-statistic       p-value\n",
      "        0      1   -19.318104  8.951392e-83\n",
      "        1      2   -13.190646  1.152427e-39\n",
      "        2      3   -10.956317  6.671292e-28\n",
      "        3      4    -8.986587  2.629239e-19\n",
      "        4      5    -6.921167  4.526424e-12\n",
      "        5      6    -7.770596  7.929979e-15\n",
      "        6      7    -5.779015  7.562221e-09\n",
      "        7      8   -11.735116  9.317108e-32\n",
      "        8      9   -15.866802  1.340352e-56\n",
      "        9     10   -14.298600  2.611231e-46\n",
      "       10     11   -19.563477  5.774886e-85\n",
      "       11     12   -17.292459  9.124273e-67\n",
      "       12     13   -32.471816 1.819925e-227\n",
      "\n"
     ]
    }
   ],
   "source": [
    "binning_table.analysis()"
   ]
  },
  {
   "cell_type": "code",
   "execution_count": 45,
   "metadata": {},
   "outputs": [
    {
     "data": {
      "image/png": "[encoded data removed]",
      "text/plain": [
       "<Figure size 432x288 with 2 Axes>"
      ]
     },
     "metadata": {
      "needs_background": "light"
     },
     "output_type": "display_data"
    }
   ],
   "source": [
    "binning_table.plot()"
   ]
  },
  {
   "cell_type": "code",
   "execution_count": null,
   "metadata": {},
   "outputs": [],
   "source": [
    "test=df[df['clean_code_departement']==33]"
   ]
  },
  {
   "cell_type": "code",
   "execution_count": null,
   "metadata": {},
   "outputs": [],
   "source": [
    "y = test['Valeur fonciere']\n",
    "X = test.drop(['Valeur fonciere'], axis = 1)"
   ]
  },
  {
   "cell_type": "code",
   "execution_count": null,
   "metadata": {},
   "outputs": [],
   "source": [
    "X_train, X_test, y_train, y_test = train_test_split(X,\n",
    "                                                            y,\n",
    "                                                            test_size=0.33,\n",
    "                                                            random_state=42)"
   ]
  },
  {
   "cell_type": "code",
   "execution_count": null,
   "metadata": {},
   "outputs": [],
   "source": [
    "df[\"clean_code_commune\"].value_counts()[df[\"clean_code_commune\"].value_counts()<250 ]"
   ]
  },
  {
   "cell_type": "code",
   "execution_count": null,
   "metadata": {},
   "outputs": [],
   "source": [
    "data = load_boston()\n",
    "\n",
    "variable_names = data.feature_names\n",
    "X = data.data\n",
    "y = data.target"
   ]
  },
  {
   "cell_type": "code",
   "execution_count": null,
   "metadata": {},
   "outputs": [],
   "source": []
  },
  {
   "cell_type": "code",
   "execution_count": null,
   "metadata": {},
   "outputs": [],
   "source": [
    "variable_names = X_train.columns.values"
   ]
  },
  {
   "cell_type": "code",
   "execution_count": null,
   "metadata": {},
   "outputs": [],
   "source": [
    "X_train.columns"
   ]
  },
  {
   "cell_type": "code",
   "execution_count": null,
   "metadata": {},
   "outputs": [],
   "source": [
    "categorical_variables= [ \"clean_code_departement\",\n",
    "            \"clean_code_commune\", \"code_postal\", \"Dependance\",\n",
    "            \"month\"]"
   ]
  },
  {
   "cell_type": "code",
   "execution_count": null,
   "metadata": {},
   "outputs": [],
   "source": [
    "binning_process = BinningProcess(variable_names,\n",
    "                                 categorical_variables=categorical_variables)"
   ]
  },
  {
   "cell_type": "code",
   "execution_count": null,
   "metadata": {},
   "outputs": [],
   "source": [
    "lr = Pipeline(steps=[('binning_process', binning_process),\n",
    "                     ('regressor', LinearRegression())])\n"
   ]
  },
  {
   "cell_type": "code",
   "execution_count": null,
   "metadata": {},
   "outputs": [],
   "source": [
    "lr.fit(X_train, y_train)"
   ]
  },
  {
   "cell_type": "code",
   "execution_count": null,
   "metadata": {},
   "outputs": [],
   "source": [
    "y_test_predict = lr.predict(X_test)\n",
    "\n",
    "print(\"MSE:      {:.3f}\".format(mean_squared_error(y_test, y_test_predict)))\n",
    "print(\"MAE:      {:.3f}\".format(mean_absolute_error(y_test, y_test_predict)))\n",
    "print(\"R2 score: {:.3f}\".format(r2_score(y_test, y_test_predict)))"
   ]
  },
  {
   "cell_type": "code",
   "execution_count": null,
   "metadata": {},
   "outputs": [],
   "source": [
    "binning_process.information(print_level=1)"
   ]
  },
  {
   "cell_type": "code",
   "execution_count": null,
   "metadata": {},
   "outputs": [],
   "source": [
    "binning_process.splits"
   ]
  },
  {
   "cell_type": "code",
   "execution_count": null,
   "metadata": {},
   "outputs": [],
   "source": [
    "binning_process.summary()"
   ]
  },
  {
   "cell_type": "code",
   "execution_count": null,
   "metadata": {},
   "outputs": [],
   "source": [
    "import matplotlib.pyplot as plt\n",
    "import seaborn as sns\n",
    "from scipy import stats\n",
    "def outlier_inspect(df,\n",
    "                    col,\n",
    "                    min_z=1,\n",
    "                    max_z=5,\n",
    "                    step=0.2,\n",
    "                    max_hist=None,\n",
    "                    bins=50):\n",
    "    fig = plt.figure(figsize=(20, 6))\n",
    "    fig.suptitle(col, fontsize=16)\n",
    "    plt.subplot(1, 3, 1)\n",
    "    if max_hist == None:\n",
    "        sns.histplot(df[col], kde=False, bins=50, color=\"r\")\n",
    "    else:\n",
    "        sns.distplot(df[df[col] <= max_hist][col], kde=False, bins=50)\n",
    "    plt.subplot(1, 3, 2)\n",
    "    sns.boxplot(df[col])\n",
    "    plt.subplot(1, 3, 3)\n",
    "    z_score_inspect = outlier_zscore(df,\n",
    "                                     col,\n",
    "                                     min_z=min_z,\n",
    "                                     max_z=max_z,\n",
    "                                     step=step)\n",
    "    plt.show()"
   ]
  },
  {
   "cell_type": "code",
   "execution_count": null,
   "metadata": {},
   "outputs": [],
   "source": [
    "def outlier_zscore(df, col, min_z=1, max_z=5, step=0.1, print_list=False):\n",
    "    z_scores = df[\"zscores\"]\n",
    "    threshold_list = []\n",
    "    for threshold in np.arange(min_z, max_z, step):\n",
    "        threshold_list.append(\n",
    "            (threshold, len(np.where(z_scores > threshold)[0])))\n",
    "        df_outlier = pd.DataFrame(threshold_list,\n",
    "                                  columns=['threshold', 'outlier_count'])\n",
    "        df_outlier['pct'] = (df_outlier.outlier_count -\n",
    "                             df_outlier.outlier_count.shift(-1)\n",
    "                             ) / df_outlier.outlier_count * 100\n",
    "    plt.plot(df_outlier.threshold, df_outlier.outlier_count)\n",
    "    best_treshold = round(df_outlier.iloc[df_outlier.pct.argmax(), 0], 2)\n",
    "    outlier_limit = int(df[col].dropna().mean() + (df[col].dropna().std()) *\n",
    "                        df_outlier.iloc[df_outlier.pct.argmax(), 0])\n",
    "    percentile_threshold = stats.percentileofscore(df[col].dropna(),\n",
    "                                                   outlier_limit)\n",
    "    plt.vlines(best_treshold,\n",
    "               0,\n",
    "               df_outlier.outlier_count.max(),\n",
    "               colors=\"r\",\n",
    "               ls=\":\")\n",
    "    plt.annotate(\n",
    "        \"Zscore : {}\\nValue : {}\\nPercentile : {}\".format(\n",
    "            best_treshold, outlier_limit,\n",
    "            (np.round(percentile_threshold,\n",
    "                      3), np.round(100 - percentile_threshold, 3))),\n",
    "        (best_treshold, df_outlier.outlier_count.max() / 2))\n",
    "    #plt.show()\n",
    "    if print_list:\n",
    "        print(df_outlier)\n",
    "    return (plt, df_outlier, best_treshold, outlier_limit,\n",
    "            percentile_threshold)\n"
   ]
  },
  {
   "cell_type": "code",
   "execution_count": null,
   "metadata": {
    "scrolled": false
   },
   "outputs": [],
   "source": [
    "outlier_inspect(df, 'Valeur fonciere')"
   ]
  },
  {
   "cell_type": "code",
   "execution_count": null,
   "metadata": {},
   "outputs": [],
   "source": [
    "# absolute value of zscore and if sup x then 1  : \n",
    "df[\"outlier\"] = (abs(df[\"zscores\"])>1).astype(int)\n",
    "df=df[df['outlier'] == 0].reset_index(drop=True)"
   ]
  },
  {
   "cell_type": "markdown",
   "metadata": {},
   "source": [
    "##  Modele "
   ]
  },
  {
   "cell_type": "code",
   "execution_count": null,
   "metadata": {
    "scrolled": true
   },
   "outputs": [],
   "source": [
    "import numpy as np\n",
    "import pandas as pd\n",
    "from sklearn.impute import KNNImputer\n",
    "\n",
    "from sklearn.preprocessing import OrdinalEncoder\n",
    "from sklearn.preprocessing import OneHotEncoder\n",
    "from sklearn.preprocessing import MinMaxScaler\n",
    "from sklearn.preprocessing import RobustScaler\n",
    "\n",
    "\n",
    "from sklearn.model_selection import cross_val_score\n",
    "from sklearn.model_selection import learning_curve\n",
    "\n",
    "from sklearn.linear_model import LinearRegression\n",
    "\n",
    "import warnings\n",
    "warnings.filterwarnings('ignore')\n",
    "\n",
    "from sklearn import pipeline\n",
    "from sklearn.pipeline import make_pipeline\n",
    "from sklearn.compose import make_column_transformer\n",
    "\n",
    "#from house_prediction_package.preprocessing import Preprocessing\n",
    "#from house_prediction_package.data import GetData\n",
    "\n",
    "\n",
    "class Pipeline :\n",
    "\n",
    "    def __init__(self,df):\n",
    "\n",
    "        # option 2\n",
    "        #appeler les méthodes\n",
    "        self.df = df\n",
    "        self.df, self.categorical_features, self.numerical_features, self.X_train, self.X_test, self.y_train, self.y_test = Preprocessing(\n",
    "            self.df).feature_generation().zscore().split_x_y()\n",
    "\n",
    "\n",
    "    def pipeline(self):\n",
    "        # création des pipelines de pré-processing pour les variables numériques et catégorielles\n",
    "        #ajout d'un parametre pour gerer les valeures non connues dans onehotencoder - il les passe à 0(autres options disponibles)\n",
    "        numerical_pipeline = make_pipeline(KNNImputer(n_neighbors=3), MinMaxScaler())\n",
    "        categorical_pipeline = make_pipeline(OneHotEncoder(handle_unknown=\"ignore\"))\n",
    "        preprocessor = make_column_transformer(\n",
    "            (numerical_pipeline, self.numerical_features),\n",
    "            (categorical_pipeline, self.categorical_features))\n",
    "        model = make_pipeline(preprocessor, LinearRegression())\n",
    "        fitted_model = model.fit(self.X_train, self.y_train)\n",
    "        return fitted_model, self.X_train, self.y_train,self.X_test, self.y_test\n"
   ]
  },
  {
   "cell_type": "code",
   "execution_count": null,
   "metadata": {},
   "outputs": [],
   "source": [
    "def pipeline(df,X_train,y_train, numerical_features, categorical_features):\n",
    "    # création des pipelines de pré-processing pour les variables numériques et catégorielles\n",
    "        #ajout d'un parametre pour gerer les valeures non connues dans onehotencoder - il les passe à 0(autres options disponibles)\n",
    "    numerical_pipeline = make_pipeline(KNNImputer(n_neighbors=3), MinMaxScaler())\n",
    "    categorical_pipeline = make_pipeline(OneHotEncoder(handle_unknown=\"ignore\"))\n",
    "    preprocessor = make_column_transformer(\n",
    "            (numerical_pipeline, numerical_features),\n",
    "            (categorical_pipeline, categorical_features))\n",
    "    model = make_pipeline(preprocessor, LinearRegression())\n",
    "    fitted_model = model.fit(X_train, y_train)\n",
    "    return fitted_model"
   ]
  },
  {
   "cell_type": "code",
   "execution_count": null,
   "metadata": {},
   "outputs": [],
   "source": [
    "model =pipeline(df,X_train, y_train, numerical_features, categorical_features)"
   ]
  },
  {
   "cell_type": "code",
   "execution_count": null,
   "metadata": {
    "scrolled": true
   },
   "outputs": [],
   "source": [
    "model, X_train, y_train,X_test, y_test = Pipeline(df).pipeline()"
   ]
  },
  {
   "cell_type": "code",
   "execution_count": null,
   "metadata": {},
   "outputs": [],
   "source": [
    "# réalisation baseline\n",
    "\n",
    "\n",
    "from sklearn.impute import KNNImputer\n",
    "\n",
    "from sklearn.preprocessing import OrdinalEncoder\n",
    "from sklearn.preprocessing import OneHotEncoder\n",
    "from sklearn.preprocessing import MinMaxScaler\n",
    "from sklearn.preprocessing import RobustScaler\n",
    "\n",
    "from sklearn.model_selection import train_test_split\n",
    "from sklearn.model_selection import cross_val_score\n",
    "from sklearn.model_selection import learning_curve\n",
    "\n",
    "from sklearn.linear_model import LinearRegression\n",
    "\n",
    "import warnings\n",
    "warnings.filterwarnings('ignore')\n",
    "\n",
    "from sklearn import pipeline\n",
    "from sklearn.pipeline import make_pipeline\n",
    "from sklearn.compose import make_column_transformer"
   ]
  },
  {
   "cell_type": "code",
   "execution_count": null,
   "metadata": {},
   "outputs": [],
   "source": [
    "df = df[df['surface_carrez_lot_1'].isna() ==False]"
   ]
  },
  {
   "cell_type": "code",
   "execution_count": null,
   "metadata": {},
   "outputs": [],
   "source": [
    "columns_model= [ 'parcelle_cad_section', 'type_de_voie',\n",
    "       'code_postal', 'clean_code_departement',\n",
    "       'clean_code_commune', 'surface_carrez_lot_1'\n",
    "       , 'Nb_lots', 'surface_terrain',\n",
    "       'surface_reelle_bati', 'nb_pieces_principales','main_type_terrain','parcelle_cadastrale','Dependance', 'Maison','Date_YYYY-MM']"
   ]
  },
  {
   "cell_type": "code",
   "execution_count": null,
   "metadata": {},
   "outputs": [],
   "source": [
    "# a améliorer pas utile\n",
    "threshold= (len(columns_model)/2)-1\n",
    "for i in range(len(df.index)) :\n",
    "    df.at[i,'to_drop'] = 1 if df[columns_model].iloc[i].isnull().sum() >= threshold else 0\n",
    "df = df[df['to_drop']== 0].drop(['zscores','outlier','to_drop'], axis =1)"
   ]
  },
  {
   "cell_type": "code",
   "execution_count": null,
   "metadata": {},
   "outputs": [],
   "source": [
    "# selection des variables\n",
    "#j'ai viré la voie que je dois remplacer par code iris (voie trop spécifique pour apprentissage)\n",
    "X = df[[ 'type_de_voie', 'code_postal', 'surface_terrain',\n",
    "       'surface_reelle_bati', 'nb_pieces_principales','main_type_terrain','Dependance', 'Date_YYYY-MM']]\n",
    "\n",
    "y =df['Valeur fonciere']"
   ]
  },
  {
   "cell_type": "code",
   "execution_count": null,
   "metadata": {
    "scrolled": true
   },
   "outputs": [],
   "source": [
    "X['code_postal']=X['code_postal'].astype('str')\n",
    "X['clean_code_commune']=X['clean_code_commune'].astype('str')\n",
    "X[\"Date_YYYY_MM\"]=X[\"Date_YYYY-MM\"].apply(str)\n",
    "X= X.drop('Date_YYYY-MM',axis=1)"
   ]
  },
  {
   "cell_type": "code",
   "execution_count": null,
   "metadata": {},
   "outputs": [],
   "source": [
    "# Séparation des variables catégorielles et numériques\n",
    "categorical_features = X.select_dtypes(include = ['object']).columns\n",
    "numerical_features = X._get_numeric_data().columns"
   ]
  },
  {
   "cell_type": "code",
   "execution_count": null,
   "metadata": {},
   "outputs": [],
   "source": [
    "for column in categorical_features : \n",
    "    X[column]= X[column].replace(np.nan, '', regex=True)"
   ]
  },
  {
   "cell_type": "code",
   "execution_count": null,
   "metadata": {
    "scrolled": true
   },
   "outputs": [],
   "source": [
    "for column in categorical_features : \n",
    "    print(X[column].isnull().value_counts())"
   ]
  },
  {
   "cell_type": "code",
   "execution_count": null,
   "metadata": {
    "scrolled": true
   },
   "outputs": [],
   "source": [
    "# check types of entries inside df columns : \n",
    "for column in df.columns : \n",
    "    print(df[column].map(type).value_counts())"
   ]
  },
  {
   "cell_type": "code",
   "execution_count": null,
   "metadata": {},
   "outputs": [],
   "source": [
    "# à garder et commencer par ça \n",
    "columns_ob = [\"B_T_Q\",\"type_de_voie\",\"voie\",\"type_de_voie\",\"clean_code_departement\",\"main_type_terrain\",\"Dependance\",\"Maison\",\"Date_YYYY-MM\"]\n",
    "for column in columns_ob : \n",
    "    df[column]=df[column].replace(np.nan, '').apply(str)"
   ]
  },
  {
   "cell_type": "code",
   "execution_count": null,
   "metadata": {},
   "outputs": [],
   "source": [
    "df[df[\"clean_code_departement\"].map(type)== str]"
   ]
  },
  {
   "cell_type": "code",
   "execution_count": null,
   "metadata": {},
   "outputs": [],
   "source": [
    "df= df[df[\"Valeur fonciere\"].map(type)== str]"
   ]
  },
  {
   "cell_type": "code",
   "execution_count": null,
   "metadata": {},
   "outputs": [],
   "source": [
    "df[df['type_de_voie'].map(type) != str] "
   ]
  },
  {
   "cell_type": "code",
   "execution_count": null,
   "metadata": {},
   "outputs": [],
   "source": [
    "X_train, X_test, y_train, y_test = train_test_split(X, y, test_size=0.33, random_state=42)"
   ]
  },
  {
   "cell_type": "code",
   "execution_count": null,
   "metadata": {},
   "outputs": [],
   "source": [
    "# création des pipelines de pré-processing pour les variables numériques et catégorielles\n",
    "#ajout d'un parametre pour gerer les valeures non connues dans onehotencoder - il les passe à 0(autres options disponibles)\n",
    "numerical_pipeline = make_pipeline(KNNImputer(n_neighbors=3), MinMaxScaler())\n",
    "categorical_pipeline = make_pipeline(OneHotEncoder(handle_unknown='ignore'))"
   ]
  },
  {
   "cell_type": "code",
   "execution_count": null,
   "metadata": {},
   "outputs": [],
   "source": [
    "preprocessor = make_column_transformer(\n",
    "    (numerical_pipeline, numerical_features), (categorical_pipeline, categorical_features))"
   ]
  },
  {
   "cell_type": "code",
   "execution_count": null,
   "metadata": {},
   "outputs": [],
   "source": [
    "model = make_pipeline(preprocessor, LinearRegression())"
   ]
  },
  {
   "cell_type": "code",
   "execution_count": null,
   "metadata": {},
   "outputs": [],
   "source": [
    "model.fit(X_train, y_train)"
   ]
  },
  {
   "cell_type": "code",
   "execution_count": null,
   "metadata": {},
   "outputs": [],
   "source": [
    "model.score(X_test,y_test)"
   ]
  },
  {
   "cell_type": "code",
   "execution_count": null,
   "metadata": {},
   "outputs": [],
   "source": [
    "from sklearn.metrics import mean_squared_error\n",
    "from sklearn.metrics import r2_score\n",
    "\n",
    "test_y_hat = model.predict(X_test)\n",
    "print('Score r²: ', model.score(X_test, y_test))\n",
    "print(\"Mean absolute error: %.2f\" % np.mean(np.absolute(test_y_hat - y_test)))\n",
    "print(\"Residual  of squares (MSE): %.2f\" % np.mean((test_y_hat - y_test)**2))\n",
    "print(\"R2-score: %.2f\" % r2_score(test_y_hat, y_test))"
   ]
  },
  {
   "cell_type": "code",
   "execution_count": null,
   "metadata": {},
   "outputs": [],
   "source": [
    "#great code to create efficently new column based on condition s on other columns \n",
    "#can be applied withmultiple conditions passed as a list & multiple outputs - one per condition, \n",
    "#default value in select clause in case none condition met \n",
    "import numpy as np\n",
    "conditions = [\n",
    "  np.logical_and(df['Dependance']=='Maison', (df['Maison'].isnull()))\n",
    "]\n",
    "outputs = ['Maison']\n",
    "df['Maison'] = pd.Series(np.select(conditions, outputs, 'Maison'))"
   ]
  },
  {
   "cell_type": "code",
   "execution_count": null,
   "metadata": {},
   "outputs": [],
   "source": [
    "df['Dependance']= [value.replace('Maison','') for value in df['Dependance']]\n",
    "df['Maison'] = 1\n"
   ]
  },
  {
   "cell_type": "code",
   "execution_count": null,
   "metadata": {},
   "outputs": [],
   "source": [
    "df['Dependance']= [1 if value =='Dépendance'else 0 for value in df['Dependance']]"
   ]
  },
  {
   "cell_type": "code",
   "execution_count": null,
   "metadata": {},
   "outputs": [],
   "source": []
  },
  {
   "cell_type": "markdown",
   "metadata": {},
   "source": [
    "# feature importance"
   ]
  },
  {
   "cell_type": "code",
   "execution_count": null,
   "metadata": {},
   "outputs": [],
   "source": [
    "df_filtered = df[(df['parcelle_cadastrale']== '01289000AC0176') | (df['parcelle_cadastrale']== '013500000C1248')| (df['parcelle_cadastrale']== '01195000AD0050')|(df['parcelle_cadastrale'] == '013500000C1248')| (df['parcelle_cadastrale'] == '01344000AC0181') |(df.index.isin([71,72,73,74]))]"
   ]
  },
  {
   "cell_type": "code",
   "execution_count": null,
   "metadata": {},
   "outputs": [],
   "source": [
    "pd.set_option('display.max_columns', None)"
   ]
  },
  {
   "cell_type": "code",
   "execution_count": null,
   "metadata": {},
   "outputs": [],
   "source": [
    "# si group by parcelle_cad_section et date et valeur fonciere alors même transaction \n",
    "#ensuite agrégats différent en fonction \n",
    "# si superficie surface reelle bati diff alors plusieurs maisons \n",
    "si value_count type local superieur à 1 alors différents locaux \n",
    "    agregats suivants : \n",
    "        somme surface reelle bati \n",
    "        somme nb pieces principales \n",
    "        si meme parcelle cadastrale alors max surface terain\n",
    "        sinon somme surface terrain \n",
    "si value_count type local == 1 et que value_count nature culture superieur à 1 alors \n",
    "    agregats suviants \n",
    "        max surface reelle bati\n",
    "        max nb pieces principales \n",
    "        somme surface terrain \n",
    "si value_count type local == 1 et que value_count surface reelle bati superieur à 1 alors :\n",
    "    agregats suivants \n",
    "        somme surface reelle bati\n",
    "        somme pieces principales \n",
    "        max surface terrain \n",
    "        \n",
    "créer une colonne par type local \n",
    "     y positionner les value counts de type local "
   ]
  },
  {
   "cell_type": "code",
   "execution_count": null,
   "metadata": {},
   "outputs": [],
   "source": [
    "#utilisation de dask df pr optimiser le process car on va ajouter les dépendancess \n",
    "#find relative frequency of each team name in DataFrame\n",
    "df.groupby('team').apply(lambda x: x['team'].count() / df.shape[0])"
   ]
  },
  {
   "cell_type": "markdown",
   "metadata": {},
   "source": [
    "Pour répondre à la problématique d'affichage suivante dansle fichier dvf : \n",
    "\"Quand une disposition comporte plusieurs locaux ou plusieurs natures de culture, le fichier de restitution comporte autant de lignes qu’il y a de locaux ou de nature de culture concernés par la mutation.\n",
    "\n",
    "Ainsi, pour une même publication, il peut y avoir 1 à n ligne(s) de restitution. Les données génériques (ainsi que le prix) sont alors répétées sur chaque ligne. \n",
    "\n",
    "Cas particulier : dans le cas où n locaux sont construits sur un terrain comportant p natures de cultures différentes, le fichier de restitution comportera (n x p) lignes. En effet, dans ce cas, il n’est pas possible de ventiler automatiquement les locaux par nature de culture, alors le fichier présente toutes les combinaisons possibles.\n",
    "\n",
    "Par exemple, si 2 locaux L1 et L2 sont construits sur une parcelle comportant 2 natures de culture N1 et N2 (sol et jardin), alors il y aura 4 lignes :\n",
    "* L1 – N1\n",
    "* L2 – N2\n",
    "* L1 – N2\n",
    "* L2 – N1\"\n",
    "\n",
    "Nous avons opéré en plusieurs étapes :\n",
    "1. la premiere recréer les pacerelles cadastrales\n",
    " \n",
    "2. la seconde créer des agrégats conditionnés avec des fonctions lambdas. la complexité de l'agrégation réside dans le fait que les aggrégations différent par variable et la typologie d'aggrégation de certaines variables dépendra des données présentes dans d'autres colonnes. si 2 lignes avec une maison mais sur deux terrains, on doit prendre la valeur de superficie de la maison sans la sommer et additionner les superficies terrains. toutefois certaines transactions auront plusieurs maisons et dans ce cas, il faut additionner les superficies maisons.\n",
    "\n",
    "Les possibilités techniques qui s'offrent à nous sont : \n",
    "  *  apply -- Apply function func group-wise and combine the results together.\n",
    "  *  aggregate -- Apply aggregate function to the GroupBy object.\n",
    "  *  pipe --    Apply function to the full GroupBy object instead of to each group.\n",
    "  *  transform -- Apply function column-by-column to the GroupBy object.\n",
    "  \n",
    "  Ensuite on drop les dépendances vendues seules (sans maison) \n",
    "\n"
   ]
  },
  {
   "cell_type": "code",
   "execution_count": null,
   "metadata": {},
   "outputs": [],
   "source": [
    "#preprocessing droping rows with non numeric values in \n",
    "new_df['Type local'] = new_df['Type local'].replace(np.nan, 'Non_spécifié')\n",
    "new_df= new_df.drop_duplicates()"
   ]
  },
  {
   "cell_type": "code",
   "execution_count": null,
   "metadata": {},
   "outputs": [],
   "source": []
  },
  {
   "cell_type": "code",
   "execution_count": null,
   "metadata": {
    "scrolled": false
   },
   "outputs": [],
   "source": [
    "# pre processing avant groupby mais attention sortir valeures foncieres avant de mettre en POO\n",
    "ob_columns= df.dtypes[df.dtypes == 'O'].index\n",
    "for column in ob_columns : \n",
    "    df[column]=df[column].replace(np.nan,'',regex=True)"
   ]
  },
  {
   "cell_type": "code",
   "execution_count": null,
   "metadata": {},
   "outputs": [],
   "source": [
    "df"
   ]
  },
  {
   "cell_type": "code",
   "execution_count": null,
   "metadata": {},
   "outputs": [],
   "source": []
  },
  {
   "cell_type": "code",
   "execution_count": null,
   "metadata": {},
   "outputs": [],
   "source": [
    "df[['Surface terrain','Surface reelle bati','Nombre pieces principales','Surface Carrez du 1er lot']]=df[['Surface terrain','Surface reelle bati','Nombre pieces principales','Surface Carrez du 1er lot']].apply(pd.to_numeric,errors='coerce')"
   ]
  },
  {
   "cell_type": "code",
   "execution_count": null,
   "metadata": {},
   "outputs": [],
   "source": [
    "test = df.groupby([\"parcelle_cad_section\",\"Date mutation\",\"Valeur fonciere\"], as_index= False).apply(lambda x : pd.Series({\n",
    "    'B_T_Q' : x['B/T/Q'].max()\n",
    "    ,'type_de_voie': x['Type de voie'].max()\n",
    "    ,'voie': x['Voie'].max()\n",
    "    ,'code_postal': x['Code postal'].max()\n",
    "    ,'commune': max(x['Commune'])\n",
    "    ,'clean_code_departement': x['clean_code_departement'].max()\n",
    "    ,'clean_code_commune': max(x['clean_code_commune'])\n",
    "    ,'surface_carrez_lot_1' :  x['Surface Carrez du 1er lot'].sum()/(x['Surface reelle bati'].count()/(x['Surface reelle bati'].count()/x['Nature culture'].nunique()))\n",
    "    ,'Nb_lots': x[('Nombre de lots')].max()\n",
    "   # ,'v1Surface reelle bati' : x['Surface reelle bati'].max() if x['Type local'].nunique() == 1 and x['Nature culture'].nunique() >1 else x['Surface reelle bati'].sum()\n",
    "   # ,'v1Nombre pieces principales' : x['Nombre pieces principales'].max() if x['Type local'].nunique() == 1 and x['Nature culture'].nunique() >1 else x['Nombre pieces principales'].sum()\n",
    "   # ,'v1Surface terrain': x['Surface terrain'].max() if x['Nature culture'].nunique() == 1 or x['parcelle_cadastrale'].nunique() >1 else x['Surface terrain'].sum()\n",
    "    ,'surface_terrain' : x['Surface terrain'].sum()/(x['Surface terrain'].count()/x['Surface terrain'].nunique()) if int(x['Surface terrain'].nunique()) > 1 and int(x['Nature culture'].nunique()) >1 else x['Surface terrain'].max()\n",
    "   # ,'v2nb_pieces':  x['Nombre pieces principales'].sum()/(x['Nombre pieces principales'].count()/x['Surface reelle bati'].nunique()) if x['Surface reelle bati'].nunique() > 1 else x['Nombre pieces principales'].max()\n",
    "   # ,'v2_surface bati' :x['Surface reelle bati'].sum()/(x['Surface reelle bati'].count()/x['Surface reelle bati'].nunique()) if x['Surface reelle bati'].nunique() > 1 else x['Surface reelle bati'].max()\n",
    "    ,'surface_reelle_bati' : x['Surface reelle bati'].sum()/(x['Surface reelle bati'].count()/(x['Surface reelle bati'].count()/x['Nature culture'].nunique())) \n",
    "    ,'nb_pieces_principales' : x['Nombre pieces principales'].sum()/(x['Nombre pieces principales'].count()/(x['Surface reelle bati'].count()/x['Nature culture'].nunique())) \n",
    "    ,'dependance' : x['Type local'].unique()\n",
    "    ,'main_type_terrain' : x['Nature culture'].max()\n",
    "}))"
   ]
  },
  {
   "cell_type": "code",
   "execution_count": null,
   "metadata": {},
   "outputs": [],
   "source": [
    "df[df['parcelle_cad_section']=='01001000ZH']"
   ]
  },
  {
   "cell_type": "code",
   "execution_count": null,
   "metadata": {
    "scrolled": false
   },
   "outputs": [],
   "source": [
    "test"
   ]
  },
  {
   "cell_type": "code",
   "execution_count": null,
   "metadata": {},
   "outputs": [],
   "source": [
    "test.dependance.unique()"
   ]
  },
  {
   "cell_type": "code",
   "execution_count": null,
   "metadata": {},
   "outputs": [],
   "source": [
    "df=df[df.dependance.apply(lambda x: x != \"['Dépendance']\")]"
   ]
  },
  {
   "cell_type": "code",
   "execution_count": null,
   "metadata": {},
   "outputs": [],
   "source": [
    "df= pd.read_csv(\"aggregatedfile.csv\")"
   ]
  },
  {
   "cell_type": "code",
   "execution_count": null,
   "metadata": {},
   "outputs": [],
   "source": [
    "df"
   ]
  },
  {
   "cell_type": "code",
   "execution_count": null,
   "metadata": {},
   "outputs": [],
   "source": [
    "test = df_filtered.groupby([\"parcelle_cad_section\",\"Date mutation\",\"Valeur fonciere\"], as_index= False).apply(lambda x : pd.Series({\n",
    "    'Code postal': x['Code postal'].max()\n",
    "    ,'Commune': max(x['Commune'])\n",
    "    ,'Surface Carrez du 1er lot' : max(x['Surface Carrez du 1er lot']) if x['Type local'].nunique() == 1 and x['Nature culture'].nunique() >1 else x['Surface Carrez du 1er lot'].sum()\n",
    "    ,'Nombre de lots': x[('Nombre de lots')].max()\n",
    "    ,'Surface reelle bati' : x['Surface reelle bati'].max() if x['Type local'].nunique() == 1 and x['Nature culture'].nunique() >1 else x['Surface reelle bati'].sum()\n",
    "    ,'Nombre pieces principales' : x['Nombre pieces principales'].max() if x['Type local'].nunique() == 1 and x['Nature culture'].nunique() >1 else x['Nombre pieces principales'].sum()\n",
    "    ,'Surface terrain': x['Surface terrain'].max() if x['Nature culture'].nunique() == 1 or x['parcelle_cadastrale'].nunique() >1 else x['Surface terrain'].sum()\n",
    "    ,'v2' : x['Surface terrain'].sum()/(x['Surface terrain'].count()/x['Surface terrain'].nunique()) if x['Surface terrain'].nunique() > 1 and x['Nature culture'].nunique() >1 else x['Surface terrain'].max()\n",
    "    ,'v2nb_pieces':  x['Nombre pieces principales'].sum()/(x['Nombre pieces principales'].count()/x['Surface reelle bati'].nunique()) if x['Surface reelle bati'].nunique() > 1 else x['Nombre pieces principales'].max()\n",
    "    ,'v2_surface bati' :x['Surface reelle bati'].sum()/(x['Surface reelle bati'].count()/x['Surface reelle bati'].nunique()) if x['Surface reelle bati'].nunique() > 1 else x['Surface reelle bati'].max()\n",
    "    ,'v3_surface_bati' : x['Surface reelle bati'].sum()/(x['Surface reelle bati'].count()/(x['Surface reelle bati'].count()/x['Nature culture'].nunique())) \n",
    "    ,'v3_nb_pieces' : x['Nombre pieces principales'].sum()/(x['Nombre pieces principales'].count()/(x['Surface reelle bati'].count()/x['Nature culture'].nunique())) \n",
    "    ,'Type local': x['Type local'].nunique()\n",
    "    ,'Nature culture' : x['Nature culture'].nunique()\n",
    "    ,'test' : x['Nature culture'].count()\n",
    "}))"
   ]
  },
  {
   "cell_type": "code",
   "execution_count": null,
   "metadata": {},
   "outputs": [],
   "source": [
    "# même maison surface reelle bati identique \n",
    "df[(df['parcelle_cadastrale'] == '013500000C1248')]\n",
    "#actions possibles : \n",
    "# meme valeur fonciere \n",
    "# meêm type local \n",
    "# même surface relle bati\n",
    " #pas d'info sur 1er lot\n",
    "# pas d info Nombre de lots \n",
    "# même nombre de pieces principales\n",
    "\n",
    "# différence nature culture (variable texte )\n",
    "# surface terrain différente en fonction de la parcelle cadastrale \n"
   ]
  },
  {
   "cell_type": "code",
   "execution_count": null,
   "metadata": {},
   "outputs": [],
   "source": [
    "# cas ou type local identique mais nature culture différente: \n",
    "\n",
    "df[(df['parcelle_cadastrale']== '01289000AC0176') | (df['parcelle_cadastrale']== '013500000C1248')| (df['parcelle_cadastrale']== '01195000AD0050')]\n",
    "#actions possibles : \n",
    "# meme valeur fonciere \n",
    "# meme de surface reelle bati \n",
    "#pas d'info sur 1er lot\n",
    "# pas d info Nombre de lots \n",
    "#meme nombre pieces principales \n",
    "# différente nature culture (variable texte )\n",
    "# différente surface terrain \n"
   ]
  },
  {
   "cell_type": "code",
   "execution_count": null,
   "metadata": {
    "scrolled": true
   },
   "outputs": [],
   "source": [
    "# cas ou 2 maisons , une dépendance et un terrain :\n",
    "# repérable par section et date commune \n",
    "\n",
    "\n",
    "df[df.index.isin([71,72,73,74])]\n",
    "#actions possibles : \n",
    "# meme valeur fonciere \n",
    "# code type lcoal différent pr dépendance absent pour terrain\n",
    "# différence de surface reelle bati  (0 dépendance et nan pour terrain)\n",
    "#pas d'info sur 1er lot\n",
    "# pas d info Nombre de lots \n",
    "# différence sur nombre de pieces principales\n",
    "\n",
    "# différence nature culture (variable texte )\n",
    "# surface terrain différente en fonction de la parcelle cadastrale \n"
   ]
  },
  {
   "cell_type": "code",
   "execution_count": null,
   "metadata": {},
   "outputs": [],
   "source": [
    "test=df_filtered.groupby([\"parcelle_cad_section\",\"Date mutation\",\"Valeur fonciere\"], as_index= False).agg({\n",
    "    'Code postal': 'max'\n",
    "    ,'Commune': 'max'\n",
    "    ,'Surface Carrez du 1er lot' : lambda x : x.max() if df_filtered['Type local'].nunique() == 1 and df_filtered['Nature culture'].nunique() >1 else x.sum()\n",
    "    ,'Nombre de lots': 'max'\n",
    "    ,'Surface reelle bati' : lambda x : x.max() if ['Type local'].nunique() == 1 and ['Nature culture'].nunique() >1 else x.sum()\n",
    "    ,'Nombre pieces principales' : lambda x : x.max() if df_filtered['Type local'].nunique() == 1 and df_filtered['Nature culture'].nunique() >1 else x.sum()\n",
    "    ,'Surface terrain' : lambda x : x.max() if df_filtered['Nature culture'].nunique() == 1 or df_filtered['parcelle_cadastrale'].nunique() >1 else x.sum()\n",
    "    ,'Type local': lambda x: x.value_counts().index[0]\n",
    "    ,'clean_code_departement' : lambda x: x.value_counts().index[0]\n",
    "    ,'clean_code_commune' : lambda x: x.value_counts().index[0]\n",
    "    ,'Nature culture' : 'nunique'\n",
    "    ,'Nature mutation' : 'count'})\n"
   ]
  },
  {
   "cell_type": "code",
   "execution_count": null,
   "metadata": {},
   "outputs": [],
   "source": [
    " \n",
    "df_filtered[(df_filtered['parcelle_cadastrale'] == '01289000AC0176')].groupby([\"parcelle_cad_section\",\"Date mutation\",\"Valeur fonciere\"], as_index= False).agg({\n",
    "    'Type local':lambda x : x.nunique()\n",
    "    ,'Nombre pieces principales' : lambda x : x.max() if prout['Type local'].nunique() == 1 and prout['Nature culture'].nunique() >1 else x.sum()\n",
    "    ,'Nature culture':lambda x : x.nunique()})\n",
    "    \n"
   ]
  },
  {
   "cell_type": "code",
   "execution_count": null,
   "metadata": {},
   "outputs": [],
   "source": [
    "# convert the 'Date' column to datetime format \\n\n",
    "df_maison['Date mutation']= pd.to_datetime(df_maison['Date mutation'],format= \"%d/%m/%Y\")\n",
    "#df_maison= df_maison.drop(['Date mutation'], axis = 1)"
   ]
  },
  {
   "cell_type": "code",
   "execution_count": null,
   "metadata": {},
   "outputs": [],
   "source": [
    "df_maison.columns"
   ]
  },
  {
   "cell_type": "code",
   "execution_count": null,
   "metadata": {},
   "outputs": [],
   "source": [
    "# supression des colonnes innutiles avant chargement dans db \n",
    "df_maison=df_maison.drop(['Code service CH', 'Reference document', '1 Articles CGI',\n",
    "'2 Articles CGI', '3 Articles CGI', '4 Articles CGI', '5 Articles CGI','No Volume','Identifiant local'], axis =1 )"
   ]
  },
  {
   "cell_type": "markdown",
   "metadata": {},
   "source": [
    "## Performances"
   ]
  },
  {
   "cell_type": "markdown",
   "metadata": {},
   "source": [
    "On a des problemes de performances 1h pr ingérer 1/25 des données brutes. 2 MIllions de lignes et plus de 30 colonnes\n",
    "avant d'envoyer en base, on va essayer de nettoyer le df (suppression des colonnes inutiles, des doublons, des lignes vides)\n",
    "regroupement des lignes correspondant à 1 seule transaction- création d'un id et group by \n",
    "recentrer le projet sur les mventes de maisons"
   ]
  },
  {
   "cell_type": "code",
   "execution_count": null,
   "metadata": {},
   "outputs": [],
   "source": [
    "## à vérifier si cela fonctionne\n",
    "engine = create_engine('sqlite:///../data/transactions.sqlite', echo = True)\n",
    "Session = sessionmaker(bind=engine)\n",
    "Base = declarative_base()"
   ]
  },
  {
   "cell_type": "code",
   "execution_count": null,
   "metadata": {},
   "outputs": [],
   "source": [
    "# à corriger en reprenant typo de l'exercice foot\n",
    "class Transactions_maisons(Base):\n",
    "        __tablename__ = 'dvf_maisons'\n",
    "\n",
    "        id = Column(Integer, primary_key=True)\n",
    "        no_disposition = Column(Integer)\n",
    "        date_mutation = Column(Date)\n",
    "        nature_mutation = Column(String)\n",
    "        valeur_fonciere = Column(Integer)\n",
    "        no_voie = Column(Integer)\n",
    "        b_t_q = Column(String)\n",
    "        type_voie = Column(String)\n",
    "        code_voie = Column(String)\n",
    "        voie = Column(String)\n",
    "        code_postal = Column(Integer)\n",
    "        commune = Column(String)\n",
    "        code_departement = Column(String)\n",
    "        code_commune = Column(String)\n",
    "        prefixe_section = Column(String)\n",
    "        section = Column(String)\n",
    "        no_plan = Column(Integer)\n",
    "        lot_1 = Column(String)\n",
    "        surface_carrez_1er_lot = Column(Integer)\n",
    "        lot_2 = Column(String)\n",
    "        surface_carrez_2eme_lot = Column(Integer)\n",
    "        lot_3 = Column(String)\n",
    "        surface_carrez_3eme_lot = Column(Integer)\n",
    "        lot_4 = Column(String)\n",
    "        surface_carrez_4eme_lot = Column(Integer)\n",
    "        lot_5 = Column(String)\n",
    "        surface_carrez_5eme_lot = Column(Integer)\n",
    "        nombre_lots = Column(Integer)\n",
    "        code_type_local = Column(Float)\n",
    "        type_local = Column(String)\n",
    "        surface_reelle_bati = Column(Integer)\n",
    "        nombre_pieces_principales = Column(Integer)\n",
    "        nature_culture = Column(String)\n",
    "        nature_culture_speciale = Column(String)\n",
    "        surface_terrain = Column(Integer)\n",
    "        \n",
    "        def __init__(self, no_disposition, date_mutation, nature_mutation, valeur_fonciere, no_voie,\n",
    "                     b_t_q, type_voie, code_voie, voie, code_postal, commune, code_departement, \n",
    "                     code_commune, prefixe_section, section, no_plan, lot_1, surface_carrez_1er_lot, \n",
    "                     surface_carrez_2eme_lot, surface_carrez_3eme_lot, surface_carrez_4eme_lot, \n",
    "                     surface_carrez_5eme_lot, lot_2, lot_3, lot_4, lot_5, nombre_lots, code_type_local, \n",
    "                     type_local, surface_reelle_bati, nombre_pieces_principales, nature_culture, nature_culture_speciale,\n",
    "                     surface_terrain ):\n",
    "            self.no_disposition = no_disposition \n",
    "            self.date_mutation = date_mutation \n",
    "            self.nature_mutation = nature_mutation\n",
    "            self.valeur_fonciere = valeur_fonciere \n",
    "            self.no_voie = no_voie\n",
    "            self.b_t_q = b_t_q \n",
    "            self.type_voie = type_voie \n",
    "            self.code_voie = code_voie \n",
    "            self.voie = voie \n",
    "            self.code_postal = code_postal\n",
    "            self.commune = commune\n",
    "            self.code_departement = code_departement\n",
    "            self.code_commune = code_commune\n",
    "            self.prefixe_section = prefixe_section\n",
    "            self.section = section\n",
    "            self.no_plan = no_plan\n",
    "            self.lot_1 = lot_1\n",
    "            self.surface_carrez_1er_lot = surface_carrez_1er_lot\n",
    "            self.lot_2 = lot_2\n",
    "            self.surface_carrez_2eme_lot = surface_carrez_2eme_lot\n",
    "            self.lot_3 = lot_3\n",
    "            self.surface_carrez_3eme_lot = surface_carrez_3eme_lot\n",
    "            self.lot_4 = lot_4\n",
    "            self.surface_carrez_4eme_lot = surface_carrez_4eme_lot\n",
    "            self.lot_5 = lot_5\n",
    "            self.surface_carrez_5eme_lot = surface_carrez_5eme_lot\n",
    "            self.nombre_lots = nombre_lots\n",
    "            self.code_type_local = code_type_local\n",
    "            self.type_local = type_local\n",
    "            self.surface_reelle_bati = surface_reelle_bati\n",
    "            self.nombre_pieces_principales = nombre_pieces_principales\n",
    "            self.nature_culture = nature_culture\n",
    "            self.nature_culture_speciale = nature_culture_speciale\n",
    "            self.surface_terrain =surface_terrain "
   ]
  },
  {
   "cell_type": "code",
   "execution_count": null,
   "metadata": {},
   "outputs": [],
   "source": [
    "# delete table\n",
    "#Transactions_maisons.__table__.drop(engine)\""
   ]
  },
  {
   "cell_type": "code",
   "execution_count": null,
   "metadata": {},
   "outputs": [],
   "source": [
    "# 2 - generate database schema\n",
    "Base.metadata.create_all(engine)\n",
    "# 3 - create a new session\n",
    "session = Session()"
   ]
  },
  {
   "cell_type": "code",
   "execution_count": null,
   "metadata": {},
   "outputs": [],
   "source": [
    "n = 2000  #chunk row size\n",
    "list_df = [df_maison[i:i+n] for i in range(0,df_maison.shape[0],n)]\n",
    "# reassemblage by pd.concat possible mais on s'en fiche car on va fonctionner sur des'petits df' \n",
    "#pour enrichissement puis insertion en bdd"
   ]
  },
  {
   "cell_type": "code",
   "execution_count": null,
   "metadata": {},
   "outputs": [],
   "source": [
    "test = 'ok'\n",
    "start_time = datetime.now()\n",
    "for j in range(len(list_df)):\n",
    "    if test == 'ok':\n",
    "        for i,transaction in list_df[j].iterrows():\n",
    "            session= Session()\n",
    "            new_transaction = Transactions_maisons(transaction.values[0],transaction.values[1],transaction.values[2],transaction.values[3],transaction.values[4],\n",
    "                                                      transaction.values[5],transaction.values[6],transaction.values[7],transaction.values[8],transaction.values[9],\n",
    "                                                      transaction.values[10],transaction.values[11],transaction.values[12],transaction.values[13],transaction.values[14],\n",
    "                                                      transaction.values[15],transaction.values[16],transaction.values[17],transaction.values[18],transaction.values[19],\n",
    "                                                      transaction.values[20],transaction.values[21],transaction.values[22],transaction.values[23],transaction.values[24],\n",
    "                                                      transaction.values[25],transaction.values[26],transaction.values[27],transaction.values[28],transaction.values[29],\n",
    "                                                      transaction.values[30],transaction.values[31],transaction.values[32],transaction.values[33])\n",
    "            session.add(new_transaction)\n",
    "            session.commit()\n",
    "            session.close()\n",
    "    else  :\n",
    "        break\n",
    "    test= input(f\"iteration {j}, pour passer à l'itération {j+1} taper ok  : \")\n",
    "end_time = datetime.now()\n",
    "print('Duration: {}'.format(end_time - start_time))"
   ]
  },
  {
   "cell_type": "code",
   "execution_count": null,
   "metadata": {},
   "outputs": [],
   "source": [
    "#integré à la boucle \n",
    "#session.commit()\n",
    "session.close()"
   ]
  },
  {
   "cell_type": "code",
   "execution_count": null,
   "metadata": {},
   "outputs": [],
   "source": [
    "session = Session()"
   ]
  },
  {
   "cell_type": "code",
   "execution_count": null,
   "metadata": {},
   "outputs": [],
   "source": [
    "rows = session.query(Transactions_maisons).count()\n",
    "rows"
   ]
  },
  {
   "cell_type": "code",
   "execution_count": null,
   "metadata": {},
   "outputs": [],
   "source": []
  }
 ],
 "metadata": {
  "kernelspec": {
   "display_name": "Python 3 (ipykernel)",
   "language": "python",
   "name": "python3"
  },
  "language_info": {
   "codemirror_mode": {
    "name": "ipython",
    "version": 3
   },
   "file_extension": ".py",
   "mimetype": "text/x-python",
   "name": "python",
   "nbconvert_exporter": "python",
   "pygments_lexer": "ipython3",
   "version": "3.8.6"
  },
  "toc": {
   "base_numbering": 1,
   "nav_menu": {},
   "number_sections": true,
   "sideBar": true,
   "skip_h1_title": false,
   "title_cell": "Table of Contents",
   "title_sidebar": "Contents",
   "toc_cell": false,
   "toc_position": {},
   "toc_section_display": true,
   "toc_window_display": true
  },
  "vscode": {
   "interpreter": {
    "hash": "7e331f8398536a24290f874ffd288d2ba0d3938ea5219b401a264de1a09e8807"
   }
  }
 },
 "nbformat": 4,
 "nbformat_minor": 2
}
