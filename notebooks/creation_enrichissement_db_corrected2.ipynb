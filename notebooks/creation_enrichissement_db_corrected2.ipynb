{
 "cells": [
  {
   "cell_type": "code",
   "execution_count": 1,
   "metadata": {},
   "outputs": [],
   "source": [
    "# Imports\n",
    "## Import data preparation libraries\n",
    "import pandas as pd \n",
    "import numpy as np \n",
    "from datetime import datetime\n",
    "\n",
    "##Import data enrichment library\n",
    "import requests \n",
    "\n",
    "## Import database libraries \n",
    "from sqlalchemy import create_engine, Table, Column, Integer, String, Float, Boolean, Date, MetaData, ForeignKey\n",
    "from sqlalchemy.orm import relationship, backref, sessionmaker\n",
    "from sqlalchemy.ext.declarative import declarative_base\n",
    "curl \"http://localhost:7878/search?q="
   ]
  },
  {
   "cell_type": "code",
   "execution_count": 4,
   "metadata": {},
   "outputs": [],
   "source": [
    "test= requests.get(f\"http://0.0.0.0:7878/search?q=1+rue+de+la+paix+paris\").json()"
   ]
  },
  {
   "cell_type": "code",
   "execution_count": 5,
   "metadata": {},
   "outputs": [
    {
     "data": {
      "text/plain": [
       "{'type': 'FeatureCollection',\n",
       " 'version': 'draft',\n",
       " 'features': [{'type': 'Feature',\n",
       "   'geometry': {'type': 'Point', 'coordinates': [2.33031, 48.868546]},\n",
       "   'properties': {'label': '1 Rue de la Paix 75002 Paris',\n",
       "    'score': 0.9644436363636363,\n",
       "    'housenumber': '1',\n",
       "    'id': '75102_6998_00001',\n",
       "    'name': '1 Rue de la Paix',\n",
       "    'postcode': '75002',\n",
       "    'citycode': '75102',\n",
       "    'x': 650874.19,\n",
       "    'y': 6863376.95,\n",
       "    'city': 'Paris',\n",
       "    'district': 'Paris 2e Arrondissement',\n",
       "    'context': '75, Paris, Île-de-France',\n",
       "    'type': 'housenumber',\n",
       "    'importance': 0.60888,\n",
       "    'street': 'Rue de la Paix'}},\n",
       "  {'type': 'Feature',\n",
       "   'geometry': {'type': 'Point', 'coordinates': [1.580605, 50.521659]},\n",
       "   'properties': {'label': '1 Rue de la Paix 62520 Le Touquet-Paris-Plage',\n",
       "    'score': 0.635591038961039,\n",
       "    'housenumber': '1',\n",
       "    'id': '62826_0930_00001',\n",
       "    'name': '1 Rue de la Paix',\n",
       "    'postcode': '62520',\n",
       "    'citycode': '62826',\n",
       "    'x': 599190.2,\n",
       "    'y': 7048058.96,\n",
       "    'city': 'Le Touquet-Paris-Plage',\n",
       "    'context': '62, Pas-de-Calais, Hauts-de-France',\n",
       "    'type': 'housenumber',\n",
       "    'importance': 0.56293,\n",
       "    'street': 'Rue de la Paix'}},\n",
       "  {'type': 'Feature',\n",
       "   'geometry': {'type': 'Point', 'coordinates': [5.696482, 45.172489]},\n",
       "   'properties': {'label': '1 Rue de la Paix 38170 Seyssinet-Pariset',\n",
       "    'score': 0.6333701298701299,\n",
       "    'housenumber': '1',\n",
       "    'id': '38485_0510_00001',\n",
       "    'name': '1 Rue de la Paix',\n",
       "    'postcode': '38170',\n",
       "    'citycode': '38485',\n",
       "    'x': 911785.74,\n",
       "    'y': 6456192.5,\n",
       "    'city': 'Seyssinet-Pariset',\n",
       "    'context': '38, Isère, Auvergne-Rhône-Alpes',\n",
       "    'type': 'housenumber',\n",
       "    'importance': 0.5385,\n",
       "    'street': 'Rue de la Paix'}},\n",
       "  {'type': 'Feature',\n",
       "   'geometry': {'type': 'Point', 'coordinates': [2.188311, 48.975585]},\n",
       "   'properties': {'label': 'Rue de la Paix 95240 Cormeilles-en-Parisis',\n",
       "    'score': 0.5625844155844155,\n",
       "    'id': '95176_0960',\n",
       "    'name': 'Rue de la Paix',\n",
       "    'postcode': '95240',\n",
       "    'citycode': '95176',\n",
       "    'x': 640580.4,\n",
       "    'y': 6875376.95,\n",
       "    'city': 'Cormeilles-en-Parisis',\n",
       "    'context': \"95, Val-d'Oise, Île-de-France\",\n",
       "    'type': 'street',\n",
       "    'importance': 0.617}},\n",
       "  {'type': 'Feature',\n",
       "   'geometry': {'type': 'Point', 'coordinates': [2.187368, 48.975444]},\n",
       "   'properties': {'label': '1 Impasse de la Paix 95240 Cormeilles-en-Parisis',\n",
       "    'score': 0.4470457575757575,\n",
       "    'housenumber': '1',\n",
       "    'id': '95176_0955_00001',\n",
       "    'name': '1 Impasse de la Paix',\n",
       "    'postcode': '95240',\n",
       "    'citycode': '95176',\n",
       "    'x': 640511.21,\n",
       "    'y': 6875361.98,\n",
       "    'city': 'Cormeilles-en-Parisis',\n",
       "    'context': \"95, Val-d'Oise, Île-de-France\",\n",
       "    'type': 'housenumber',\n",
       "    'importance': 0.58417,\n",
       "    'street': 'Impasse de la Paix'}}],\n",
       " 'attribution': 'BAN',\n",
       " 'licence': 'ETALAB-2.0',\n",
       " 'query': '1 rue de la paix paris',\n",
       " 'limit': 5}"
      ]
     },
     "execution_count": 5,
     "metadata": {},
     "output_type": "execute_result"
    }
   ],
   "source": [
    "test"
   ]
  },
  {
   "cell_type": "code",
   "execution_count": null,
   "metadata": {},
   "outputs": [],
   "source": [
    "# choix à faire sur l'architecture base de données :\n",
    "## soit transactions(avec base maisons et base appartements), soit adresses\n",
    "iter_csv= pd.read_csv(\"../data/valeursfoncieres-2021.txt\", sep='|',iterator=True, chunksize=100000, low_memory = False)\n",
    "df_maison = pd.concat([chunk[chunk['Code type local'] == 1] for chunk in iter_csv]) \n",
    "df_maison.info()"
   ]
  },
  {
   "cell_type": "code",
   "execution_count": null,
   "metadata": {},
   "outputs": [],
   "source": [
    "# convert the 'Date' column to datetime format \\n\n",
    "df_maison['Date mutation']= pd.to_datetime(df_maison['Date mutation'],format= \"%d/%m/%Y\")\n",
    "#df_maison= df_maison.drop(['Date mutation'], axis = 1)"
   ]
  },
  {
   "cell_type": "code",
   "execution_count": null,
   "metadata": {},
   "outputs": [],
   "source": [
    "df_maison.columns"
   ]
  },
  {
   "cell_type": "code",
   "execution_count": null,
   "metadata": {},
   "outputs": [],
   "source": [
    "# supression des colonnes innutiles avant chargement dans db \n",
    "df_maison=df_maison.drop(['Code service CH', 'Reference document', '1 Articles CGI',\n",
    "'2 Articles CGI', '3 Articles CGI', '4 Articles CGI', '5 Articles CGI','No Volume','Identifiant local'], axis =1 )"
   ]
  },
  {
   "cell_type": "markdown",
   "metadata": {},
   "source": [
    "## Performances"
   ]
  },
  {
   "cell_type": "markdown",
   "metadata": {},
   "source": [
    "On a des problemes de performances 1h pr ingérer 1/25 des données brutes. 2 MIllions de lignes et plus de 30 colonnes\n",
    "avant d'envoyer en base, on va essayer de nettoyer le df (suppression des colonnes inutiles, des doublons, des lignes vides)\n",
    "regroupement des lignes correspondant à 1 seule transaction- création d'un id et group by \n",
    "recentrer le projet sur les mventes de maisons"
   ]
  },
  {
   "cell_type": "code",
   "execution_count": null,
   "metadata": {},
   "outputs": [],
   "source": [
    "## à vérifier si cela fonctionne\n",
    "engine = create_engine('sqlite:///../data/transactions.sqlite', echo = True)\n",
    "Session = sessionmaker(bind=engine)\n",
    "Base = declarative_base()"
   ]
  },
  {
   "cell_type": "code",
   "execution_count": null,
   "metadata": {},
   "outputs": [],
   "source": [
    "# à corriger en reprenant typo de l'exercice foot\n",
    "class Transactions_maisons(Base):\n",
    "        __tablename__ = 'dvf_maisons'\n",
    "\n",
    "        id = Column(Integer, primary_key=True)\n",
    "        no_disposition = Column(Integer)\n",
    "        date_mutation = Column(Date)\n",
    "        nature_mutation = Column(String)\n",
    "        valeur_fonciere = Column(Integer)\n",
    "        no_voie = Column(Integer)\n",
    "        b_t_q = Column(String)\n",
    "        type_voie = Column(String)\n",
    "        code_voie = Column(String)\n",
    "        voie = Column(String)\n",
    "        code_postal = Column(Integer)\n",
    "        commune = Column(String)\n",
    "        code_departement = Column(String)\n",
    "        code_commune = Column(String)\n",
    "        prefixe_section = Column(String)\n",
    "        section = Column(String)\n",
    "        no_plan = Column(Integer)\n",
    "        lot_1 = Column(String)\n",
    "        surface_carrez_1er_lot = Column(Integer)\n",
    "        lot_2 = Column(String)\n",
    "        surface_carrez_2eme_lot = Column(Integer)\n",
    "        lot_3 = Column(String)\n",
    "        surface_carrez_3eme_lot = Column(Integer)\n",
    "        lot_4 = Column(String)\n",
    "        surface_carrez_4eme_lot = Column(Integer)\n",
    "        lot_5 = Column(String)\n",
    "        surface_carrez_5eme_lot = Column(Integer)\n",
    "        nombre_lots = Column(Integer)\n",
    "        code_type_local = Column(Float)\n",
    "        type_local = Column(String)\n",
    "        surface_reelle_bati = Column(Integer)\n",
    "        nombre_pieces_principales = Column(Integer)\n",
    "        nature_culture = Column(String)\n",
    "        nature_culture_speciale = Column(String)\n",
    "        surface_terrain = Column(Integer)\n",
    "        \n",
    "        def __init__(self, no_disposition, date_mutation, nature_mutation, valeur_fonciere, no_voie,\n",
    "                     b_t_q, type_voie, code_voie, voie, code_postal, commune, code_departement, \n",
    "                     code_commune, prefixe_section, section, no_plan, lot_1, surface_carrez_1er_lot, \n",
    "                     surface_carrez_2eme_lot, surface_carrez_3eme_lot, surface_carrez_4eme_lot, \n",
    "                     surface_carrez_5eme_lot, lot_2, lot_3, lot_4, lot_5, nombre_lots, code_type_local, \n",
    "                     type_local, surface_reelle_bati, nombre_pieces_principales, nature_culture, nature_culture_speciale,\n",
    "                     surface_terrain ):\n",
    "            self.no_disposition = no_disposition \n",
    "            self.date_mutation = date_mutation \n",
    "            self.nature_mutation = nature_mutation\n",
    "            self.valeur_fonciere = valeur_fonciere \n",
    "            self.no_voie = no_voie\n",
    "            self.b_t_q = b_t_q \n",
    "            self.type_voie = type_voie \n",
    "            self.code_voie = code_voie \n",
    "            self.voie = voie \n",
    "            self.code_postal = code_postal\n",
    "            self.commune = commune\n",
    "            self.code_departement = code_departement\n",
    "            self.code_commune = code_commune\n",
    "            self.prefixe_section = prefixe_section\n",
    "            self.section = section\n",
    "            self.no_plan = no_plan\n",
    "            self.lot_1 = lot_1\n",
    "            self.surface_carrez_1er_lot = surface_carrez_1er_lot\n",
    "            self.lot_2 = lot_2\n",
    "            self.surface_carrez_2eme_lot = surface_carrez_2eme_lot\n",
    "            self.lot_3 = lot_3\n",
    "            self.surface_carrez_3eme_lot = surface_carrez_3eme_lot\n",
    "            self.lot_4 = lot_4\n",
    "            self.surface_carrez_4eme_lot = surface_carrez_4eme_lot\n",
    "            self.lot_5 = lot_5\n",
    "            self.surface_carrez_5eme_lot = surface_carrez_5eme_lot\n",
    "            self.nombre_lots = nombre_lots\n",
    "            self.code_type_local = code_type_local\n",
    "            self.type_local = type_local\n",
    "            self.surface_reelle_bati = surface_reelle_bati\n",
    "            self.nombre_pieces_principales = nombre_pieces_principales\n",
    "            self.nature_culture = nature_culture\n",
    "            self.nature_culture_speciale = nature_culture_speciale\n",
    "            self.surface_terrain =surface_terrain "
   ]
  },
  {
   "cell_type": "code",
   "execution_count": null,
   "metadata": {},
   "outputs": [],
   "source": [
    "# delete table\n",
    "#Transactions_maisons.__table__.drop(engine)\""
   ]
  },
  {
   "cell_type": "code",
   "execution_count": null,
   "metadata": {},
   "outputs": [],
   "source": [
    "# 2 - generate database schema\n",
    "Base.metadata.create_all(engine)\n",
    "# 3 - create a new session\n",
    "session = Session()"
   ]
  },
  {
   "cell_type": "code",
   "execution_count": null,
   "metadata": {},
   "outputs": [],
   "source": [
    "n = 2000  #chunk row size\n",
    "list_df = [df_maison[i:i+n] for i in range(0,df_maison.shape[0],n)]\n",
    "# reassemblage by pd.concat possible mais on s'en fiche car on va fonctionner sur des'petits df' \n",
    "#pour enrichissement puis insertion en bdd"
   ]
  },
  {
   "cell_type": "code",
   "execution_count": null,
   "metadata": {},
   "outputs": [],
   "source": [
    "test = 'ok'\n",
    "start_time = datetime.now()\n",
    "for j in range(len(list_df)):\n",
    "    if test == 'ok':\n",
    "        for i,transaction in list_df[j].iterrows():\n",
    "            session= Session()\n",
    "            new_transaction = Transactions_maisons(transaction.values[0],transaction.values[1],transaction.values[2],transaction.values[3],transaction.values[4],\n",
    "                                                      transaction.values[5],transaction.values[6],transaction.values[7],transaction.values[8],transaction.values[9],\n",
    "                                                      transaction.values[10],transaction.values[11],transaction.values[12],transaction.values[13],transaction.values[14],\n",
    "                                                      transaction.values[15],transaction.values[16],transaction.values[17],transaction.values[18],transaction.values[19],\n",
    "                                                      transaction.values[20],transaction.values[21],transaction.values[22],transaction.values[23],transaction.values[24],\n",
    "                                                      transaction.values[25],transaction.values[26],transaction.values[27],transaction.values[28],transaction.values[29],\n",
    "                                                      transaction.values[30],transaction.values[31],transaction.values[32],transaction.values[33])\n",
    "            session.add(new_transaction)\n",
    "            session.commit()\n",
    "            session.close()\n",
    "    else  :\n",
    "        break\n",
    "    test= input(f\"iteration {j}, pour passer à l'itération {j+1} taper ok  : \")\n",
    "end_time = datetime.now()\n",
    "print('Duration: {}'.format(end_time - start_time))"
   ]
  },
  {
   "cell_type": "code",
   "execution_count": null,
   "metadata": {},
   "outputs": [],
   "source": [
    "#integré à la boucle \n",
    "#session.commit()\n",
    "session.close()"
   ]
  },
  {
   "cell_type": "code",
   "execution_count": null,
   "metadata": {},
   "outputs": [],
   "source": [
    "session = Session()"
   ]
  },
  {
   "cell_type": "code",
   "execution_count": null,
   "metadata": {},
   "outputs": [],
   "source": [
    "rows = session.query(Transactions_maisons).count()\n",
    "rows"
   ]
  },
  {
   "cell_type": "code",
   "execution_count": null,
   "metadata": {},
   "outputs": [],
   "source": []
  }
 ],
 "metadata": {
  "kernelspec": {
   "display_name": "Python 3 (ipykernel)",
   "language": "python",
   "name": "python3"
  },
  "language_info": {
   "codemirror_mode": {
    "name": "ipython",
    "version": 3
   },
   "file_extension": ".py",
   "mimetype": "text/x-python",
   "name": "python",
   "nbconvert_exporter": "python",
   "pygments_lexer": "ipython3",
   "version": "3.8.6"
  },
  "toc": {
   "base_numbering": 1,
   "nav_menu": {},
   "number_sections": true,
   "sideBar": true,
   "skip_h1_title": false,
   "title_cell": "Table of Contents",
   "title_sidebar": "Contents",
   "toc_cell": false,
   "toc_position": {},
   "toc_section_display": true,
   "toc_window_display": false
  }
 },
 "nbformat": 4,
 "nbformat_minor": 2
}
